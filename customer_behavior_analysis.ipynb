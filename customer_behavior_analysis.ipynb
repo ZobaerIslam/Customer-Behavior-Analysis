{
 "cells": [
  {
   "cell_type": "markdown",
   "id": "f1293174",
   "metadata": {},
   "source": [
    "# Customer Behavior Analysis"
   ]
  },
  {
   "cell_type": "markdown",
   "id": "652ae518",
   "metadata": {},
   "source": [
    "## What is customer behavior?\n",
    "The decisions and instincts that make a customer buy a certain product or service can be described as customer behavior.\n",
    "\n",
    "## The dataset\n",
    "The dataset used in this project was made by collecting information from an e-commerce store with products in multiple categories. The data is only for the months of October and November for the year **2019**. The dataset description can be found [here](https://www.kaggle.com/datasets/mkechinov/ecommerce-behavior-data-from-multi-category-store).\n"
   ]
  },
  {
   "cell_type": "code",
   "execution_count": 2,
   "id": "8d2ea825",
   "metadata": {},
   "outputs": [],
   "source": [
    "import pandas as pd"
   ]
  },
  {
   "cell_type": "markdown",
   "id": "117ea4d7",
   "metadata": {},
   "source": [
    "## Working with large CSV files in Python"
   ]
  },
  {
   "cell_type": "code",
   "execution_count": 3,
   "id": "324d7333",
   "metadata": {},
   "outputs": [],
   "source": [
    "import time"
   ]
  },
  {
   "cell_type": "markdown",
   "id": "a14807e3",
   "metadata": {},
   "source": [
    "### Using Pandas chunksize"
   ]
  },
  {
   "cell_type": "code",
   "execution_count": 3,
   "id": "745ca3e4",
   "metadata": {},
   "outputs": [
    {
     "data": {
      "text/html": [
       "<div>\n",
       "<style scoped>\n",
       "    .dataframe tbody tr th:only-of-type {\n",
       "        vertical-align: middle;\n",
       "    }\n",
       "\n",
       "    .dataframe tbody tr th {\n",
       "        vertical-align: top;\n",
       "    }\n",
       "\n",
       "    .dataframe thead th {\n",
       "        text-align: right;\n",
       "    }\n",
       "</style>\n",
       "<table border=\"1\" class=\"dataframe\">\n",
       "  <thead>\n",
       "    <tr style=\"text-align: right;\">\n",
       "      <th></th>\n",
       "      <th>event_time</th>\n",
       "      <th>event_type</th>\n",
       "      <th>product_id</th>\n",
       "      <th>category_id</th>\n",
       "      <th>category_code</th>\n",
       "      <th>brand</th>\n",
       "      <th>price</th>\n",
       "      <th>user_id</th>\n",
       "      <th>user_session</th>\n",
       "    </tr>\n",
       "  </thead>\n",
       "  <tbody>\n",
       "    <tr>\n",
       "      <th>42448759</th>\n",
       "      <td>2019-10-31 23:59:58 UTC</td>\n",
       "      <td>view</td>\n",
       "      <td>2300275</td>\n",
       "      <td>2053013560530830019</td>\n",
       "      <td>electronics.camera.video</td>\n",
       "      <td>gopro</td>\n",
       "      <td>527.40</td>\n",
       "      <td>537931532</td>\n",
       "      <td>22c57267-da98-4f28-9a9c-18bb5b385193</td>\n",
       "    </tr>\n",
       "    <tr>\n",
       "      <th>42448760</th>\n",
       "      <td>2019-10-31 23:59:58 UTC</td>\n",
       "      <td>view</td>\n",
       "      <td>10800172</td>\n",
       "      <td>2053013554994348409</td>\n",
       "      <td>NaN</td>\n",
       "      <td>redmond</td>\n",
       "      <td>61.75</td>\n",
       "      <td>527322328</td>\n",
       "      <td>5054190a-46cb-4211-a8f1-16fc1a060ed8</td>\n",
       "    </tr>\n",
       "    <tr>\n",
       "      <th>42448761</th>\n",
       "      <td>2019-10-31 23:59:58 UTC</td>\n",
       "      <td>view</td>\n",
       "      <td>5701038</td>\n",
       "      <td>2053013553970938175</td>\n",
       "      <td>auto.accessories.player</td>\n",
       "      <td>kenwood</td>\n",
       "      <td>128.70</td>\n",
       "      <td>566280422</td>\n",
       "      <td>05b6c62b-992f-4e8e-91f7-961bcb4719cd</td>\n",
       "    </tr>\n",
       "    <tr>\n",
       "      <th>42448762</th>\n",
       "      <td>2019-10-31 23:59:59 UTC</td>\n",
       "      <td>view</td>\n",
       "      <td>21407424</td>\n",
       "      <td>2053013561579406073</td>\n",
       "      <td>electronics.clocks</td>\n",
       "      <td>tissot</td>\n",
       "      <td>689.85</td>\n",
       "      <td>513118352</td>\n",
       "      <td>4c14bf2a-2820-4504-929d-046356a5a204</td>\n",
       "    </tr>\n",
       "    <tr>\n",
       "      <th>42448763</th>\n",
       "      <td>2019-10-31 23:59:59 UTC</td>\n",
       "      <td>view</td>\n",
       "      <td>13300120</td>\n",
       "      <td>2053013557166998015</td>\n",
       "      <td>NaN</td>\n",
       "      <td>swisshome</td>\n",
       "      <td>155.73</td>\n",
       "      <td>525266378</td>\n",
       "      <td>6e57d2d7-6022-46e6-81d6-fa77f14cefd8</td>\n",
       "    </tr>\n",
       "  </tbody>\n",
       "</table>\n",
       "</div>"
      ],
      "text/plain": [
       "                       event_time event_type  product_id          category_id  \\\n",
       "42448759  2019-10-31 23:59:58 UTC       view     2300275  2053013560530830019   \n",
       "42448760  2019-10-31 23:59:58 UTC       view    10800172  2053013554994348409   \n",
       "42448761  2019-10-31 23:59:58 UTC       view     5701038  2053013553970938175   \n",
       "42448762  2019-10-31 23:59:59 UTC       view    21407424  2053013561579406073   \n",
       "42448763  2019-10-31 23:59:59 UTC       view    13300120  2053013557166998015   \n",
       "\n",
       "                     category_code      brand   price    user_id  \\\n",
       "42448759  electronics.camera.video      gopro  527.40  537931532   \n",
       "42448760                       NaN    redmond   61.75  527322328   \n",
       "42448761   auto.accessories.player    kenwood  128.70  566280422   \n",
       "42448762        electronics.clocks     tissot  689.85  513118352   \n",
       "42448763                       NaN  swisshome  155.73  525266378   \n",
       "\n",
       "                                  user_session  \n",
       "42448759  22c57267-da98-4f28-9a9c-18bb5b385193  \n",
       "42448760  5054190a-46cb-4211-a8f1-16fc1a060ed8  \n",
       "42448761  05b6c62b-992f-4e8e-91f7-961bcb4719cd  \n",
       "42448762  4c14bf2a-2820-4504-929d-046356a5a204  \n",
       "42448763  6e57d2d7-6022-46e6-81d6-fa77f14cefd8  "
      ]
     },
     "metadata": {},
     "output_type": "display_data"
    }
   ],
   "source": [
    "# Time taken to read data\n",
    "s_time_chunk = time.time()\n",
    "\n",
    "# Using Pandas read_csv(chunksize) function\n",
    "chunk = pd.read_csv('../cBADatasets/2019-Oct.csv', chunksize=10000)\n",
    "\n",
    "# store data\n",
    "df_chunk = pd.concat(chunk)\n",
    "display(df_chunk.tail())\n",
    "\n",
    "e_time_chunk = time.time()"
   ]
  },
  {
   "cell_type": "code",
   "execution_count": 4,
   "id": "bc2dfb9d",
   "metadata": {},
   "outputs": [
    {
     "name": "stdout",
     "output_type": "stream",
     "text": [
      "With chunks:  49.85872507095337 seconds\n"
     ]
    }
   ],
   "source": [
    "print(\"With chunks: \", e_time_chunk - s_time_chunk, \"seconds\")"
   ]
  },
  {
   "cell_type": "code",
   "execution_count": 5,
   "id": "173e0185",
   "metadata": {},
   "outputs": [
    {
     "data": {
      "text/plain": [
       "(42448764, 9)"
      ]
     },
     "execution_count": 5,
     "metadata": {},
     "output_type": "execute_result"
    }
   ],
   "source": [
    "df_chunk.shape"
   ]
  },
  {
   "cell_type": "markdown",
   "id": "ea649b85",
   "metadata": {},
   "source": [
    "### Using dask \n",
    "\n",
    "Dask is an open-source python library that includes features of parallelism and scalability in Python by using the existing libraries like pandas. More about [dask](https://docs.dask.org/en/stable/)"
   ]
  },
  {
   "cell_type": "code",
   "execution_count": 6,
   "id": "098d75ea",
   "metadata": {},
   "outputs": [],
   "source": [
    "from dask import dataframe as dd"
   ]
  },
  {
   "cell_type": "code",
   "execution_count": 7,
   "id": "3626420f",
   "metadata": {},
   "outputs": [
    {
     "data": {
      "text/html": [
       "<div>\n",
       "<style scoped>\n",
       "    .dataframe tbody tr th:only-of-type {\n",
       "        vertical-align: middle;\n",
       "    }\n",
       "\n",
       "    .dataframe tbody tr th {\n",
       "        vertical-align: top;\n",
       "    }\n",
       "\n",
       "    .dataframe thead th {\n",
       "        text-align: right;\n",
       "    }\n",
       "</style>\n",
       "<table border=\"1\" class=\"dataframe\">\n",
       "  <thead>\n",
       "    <tr style=\"text-align: right;\">\n",
       "      <th></th>\n",
       "      <th>event_time</th>\n",
       "      <th>event_type</th>\n",
       "      <th>product_id</th>\n",
       "      <th>category_id</th>\n",
       "      <th>category_code</th>\n",
       "      <th>brand</th>\n",
       "      <th>price</th>\n",
       "      <th>user_id</th>\n",
       "      <th>user_session</th>\n",
       "    </tr>\n",
       "  </thead>\n",
       "  <tbody>\n",
       "    <tr>\n",
       "      <th>483203</th>\n",
       "      <td>2019-10-31 23:59:58 UTC</td>\n",
       "      <td>view</td>\n",
       "      <td>2300275</td>\n",
       "      <td>2053013560530830019</td>\n",
       "      <td>electronics.camera.video</td>\n",
       "      <td>gopro</td>\n",
       "      <td>527.40</td>\n",
       "      <td>537931532</td>\n",
       "      <td>22c57267-da98-4f28-9a9c-18bb5b385193</td>\n",
       "    </tr>\n",
       "    <tr>\n",
       "      <th>483204</th>\n",
       "      <td>2019-10-31 23:59:58 UTC</td>\n",
       "      <td>view</td>\n",
       "      <td>10800172</td>\n",
       "      <td>2053013554994348409</td>\n",
       "      <td>NaN</td>\n",
       "      <td>redmond</td>\n",
       "      <td>61.75</td>\n",
       "      <td>527322328</td>\n",
       "      <td>5054190a-46cb-4211-a8f1-16fc1a060ed8</td>\n",
       "    </tr>\n",
       "    <tr>\n",
       "      <th>483205</th>\n",
       "      <td>2019-10-31 23:59:58 UTC</td>\n",
       "      <td>view</td>\n",
       "      <td>5701038</td>\n",
       "      <td>2053013553970938175</td>\n",
       "      <td>auto.accessories.player</td>\n",
       "      <td>kenwood</td>\n",
       "      <td>128.70</td>\n",
       "      <td>566280422</td>\n",
       "      <td>05b6c62b-992f-4e8e-91f7-961bcb4719cd</td>\n",
       "    </tr>\n",
       "    <tr>\n",
       "      <th>483206</th>\n",
       "      <td>2019-10-31 23:59:59 UTC</td>\n",
       "      <td>view</td>\n",
       "      <td>21407424</td>\n",
       "      <td>2053013561579406073</td>\n",
       "      <td>electronics.clocks</td>\n",
       "      <td>tissot</td>\n",
       "      <td>689.85</td>\n",
       "      <td>513118352</td>\n",
       "      <td>4c14bf2a-2820-4504-929d-046356a5a204</td>\n",
       "    </tr>\n",
       "    <tr>\n",
       "      <th>483207</th>\n",
       "      <td>2019-10-31 23:59:59 UTC</td>\n",
       "      <td>view</td>\n",
       "      <td>13300120</td>\n",
       "      <td>2053013557166998015</td>\n",
       "      <td>NaN</td>\n",
       "      <td>swisshome</td>\n",
       "      <td>155.73</td>\n",
       "      <td>525266378</td>\n",
       "      <td>6e57d2d7-6022-46e6-81d6-fa77f14cefd8</td>\n",
       "    </tr>\n",
       "  </tbody>\n",
       "</table>\n",
       "</div>"
      ],
      "text/plain": [
       "                     event_time event_type  product_id          category_id  \\\n",
       "483203  2019-10-31 23:59:58 UTC       view     2300275  2053013560530830019   \n",
       "483204  2019-10-31 23:59:58 UTC       view    10800172  2053013554994348409   \n",
       "483205  2019-10-31 23:59:58 UTC       view     5701038  2053013553970938175   \n",
       "483206  2019-10-31 23:59:59 UTC       view    21407424  2053013561579406073   \n",
       "483207  2019-10-31 23:59:59 UTC       view    13300120  2053013557166998015   \n",
       "\n",
       "                   category_code      brand   price    user_id  \\\n",
       "483203  electronics.camera.video      gopro  527.40  537931532   \n",
       "483204                       NaN    redmond   61.75  527322328   \n",
       "483205   auto.accessories.player    kenwood  128.70  566280422   \n",
       "483206        electronics.clocks     tissot  689.85  513118352   \n",
       "483207                       NaN  swisshome  155.73  525266378   \n",
       "\n",
       "                                user_session  \n",
       "483203  22c57267-da98-4f28-9a9c-18bb5b385193  \n",
       "483204  5054190a-46cb-4211-a8f1-16fc1a060ed8  \n",
       "483205  05b6c62b-992f-4e8e-91f7-961bcb4719cd  \n",
       "483206  4c14bf2a-2820-4504-929d-046356a5a204  \n",
       "483207  6e57d2d7-6022-46e6-81d6-fa77f14cefd8  "
      ]
     },
     "metadata": {},
     "output_type": "display_data"
    }
   ],
   "source": [
    "# Using dask\n",
    "s_time_dask = time.time()\n",
    "dask_df = dd.read_csv('../cBADatasets/2019-Oct.csv')\n",
    "display(dask_df.tail())\n",
    "e_time_dask = time.time()"
   ]
  },
  {
   "cell_type": "code",
   "execution_count": 8,
   "id": "f2be9116",
   "metadata": {},
   "outputs": [
    {
     "name": "stdout",
     "output_type": "stream",
     "text": [
      "Read with dask:  0.5862700939178467 seconds\n"
     ]
    }
   ],
   "source": [
    "print(\"Read with dask: \", (e_time_dask - s_time_dask), \"seconds\")"
   ]
  },
  {
   "cell_type": "code",
   "execution_count": 9,
   "id": "081f3145",
   "metadata": {},
   "outputs": [
    {
     "name": "stdout",
     "output_type": "stream",
     "text": [
      "42448764 9\n"
     ]
    }
   ],
   "source": [
    "# Print dask dataframe shape\n",
    "dask_df_shape = dask_df.shape\n",
    "print(dask_df_shape[0].compute(), dask_df_shape[1])"
   ]
  },
  {
   "cell_type": "markdown",
   "id": "c081b153",
   "metadata": {},
   "source": [
    "### Using Pandas engine"
   ]
  },
  {
   "cell_type": "code",
   "execution_count": 10,
   "id": "57f2e159",
   "metadata": {
    "scrolled": false
   },
   "outputs": [
    {
     "data": {
      "text/html": [
       "<div>\n",
       "<style scoped>\n",
       "    .dataframe tbody tr th:only-of-type {\n",
       "        vertical-align: middle;\n",
       "    }\n",
       "\n",
       "    .dataframe tbody tr th {\n",
       "        vertical-align: top;\n",
       "    }\n",
       "\n",
       "    .dataframe thead th {\n",
       "        text-align: right;\n",
       "    }\n",
       "</style>\n",
       "<table border=\"1\" class=\"dataframe\">\n",
       "  <thead>\n",
       "    <tr style=\"text-align: right;\">\n",
       "      <th></th>\n",
       "      <th>event_time</th>\n",
       "      <th>event_type</th>\n",
       "      <th>product_id</th>\n",
       "      <th>category_id</th>\n",
       "      <th>category_code</th>\n",
       "      <th>brand</th>\n",
       "      <th>price</th>\n",
       "      <th>user_id</th>\n",
       "      <th>user_session</th>\n",
       "    </tr>\n",
       "  </thead>\n",
       "  <tbody>\n",
       "    <tr>\n",
       "      <th>42448759</th>\n",
       "      <td>2019-10-31 23:59:58 UTC</td>\n",
       "      <td>view</td>\n",
       "      <td>2300275</td>\n",
       "      <td>2053013560530830019</td>\n",
       "      <td>electronics.camera.video</td>\n",
       "      <td>gopro</td>\n",
       "      <td>527.40</td>\n",
       "      <td>537931532</td>\n",
       "      <td>22c57267-da98-4f28-9a9c-18bb5b385193</td>\n",
       "    </tr>\n",
       "    <tr>\n",
       "      <th>42448760</th>\n",
       "      <td>2019-10-31 23:59:58 UTC</td>\n",
       "      <td>view</td>\n",
       "      <td>10800172</td>\n",
       "      <td>2053013554994348409</td>\n",
       "      <td>NaN</td>\n",
       "      <td>redmond</td>\n",
       "      <td>61.75</td>\n",
       "      <td>527322328</td>\n",
       "      <td>5054190a-46cb-4211-a8f1-16fc1a060ed8</td>\n",
       "    </tr>\n",
       "    <tr>\n",
       "      <th>42448761</th>\n",
       "      <td>2019-10-31 23:59:58 UTC</td>\n",
       "      <td>view</td>\n",
       "      <td>5701038</td>\n",
       "      <td>2053013553970938175</td>\n",
       "      <td>auto.accessories.player</td>\n",
       "      <td>kenwood</td>\n",
       "      <td>128.70</td>\n",
       "      <td>566280422</td>\n",
       "      <td>05b6c62b-992f-4e8e-91f7-961bcb4719cd</td>\n",
       "    </tr>\n",
       "    <tr>\n",
       "      <th>42448762</th>\n",
       "      <td>2019-10-31 23:59:59 UTC</td>\n",
       "      <td>view</td>\n",
       "      <td>21407424</td>\n",
       "      <td>2053013561579406073</td>\n",
       "      <td>electronics.clocks</td>\n",
       "      <td>tissot</td>\n",
       "      <td>689.85</td>\n",
       "      <td>513118352</td>\n",
       "      <td>4c14bf2a-2820-4504-929d-046356a5a204</td>\n",
       "    </tr>\n",
       "    <tr>\n",
       "      <th>42448763</th>\n",
       "      <td>2019-10-31 23:59:59 UTC</td>\n",
       "      <td>view</td>\n",
       "      <td>13300120</td>\n",
       "      <td>2053013557166998015</td>\n",
       "      <td>NaN</td>\n",
       "      <td>swisshome</td>\n",
       "      <td>155.73</td>\n",
       "      <td>525266378</td>\n",
       "      <td>6e57d2d7-6022-46e6-81d6-fa77f14cefd8</td>\n",
       "    </tr>\n",
       "  </tbody>\n",
       "</table>\n",
       "</div>"
      ],
      "text/plain": [
       "                       event_time event_type  product_id          category_id  \\\n",
       "42448759  2019-10-31 23:59:58 UTC       view     2300275  2053013560530830019   \n",
       "42448760  2019-10-31 23:59:58 UTC       view    10800172  2053013554994348409   \n",
       "42448761  2019-10-31 23:59:58 UTC       view     5701038  2053013553970938175   \n",
       "42448762  2019-10-31 23:59:59 UTC       view    21407424  2053013561579406073   \n",
       "42448763  2019-10-31 23:59:59 UTC       view    13300120  2053013557166998015   \n",
       "\n",
       "                     category_code      brand   price    user_id  \\\n",
       "42448759  electronics.camera.video      gopro  527.40  537931532   \n",
       "42448760                       NaN    redmond   61.75  527322328   \n",
       "42448761   auto.accessories.player    kenwood  128.70  566280422   \n",
       "42448762        electronics.clocks     tissot  689.85  513118352   \n",
       "42448763                       NaN  swisshome  155.73  525266378   \n",
       "\n",
       "                                  user_session  \n",
       "42448759  22c57267-da98-4f28-9a9c-18bb5b385193  \n",
       "42448760  5054190a-46cb-4211-a8f1-16fc1a060ed8  \n",
       "42448761  05b6c62b-992f-4e8e-91f7-961bcb4719cd  \n",
       "42448762  4c14bf2a-2820-4504-929d-046356a5a204  \n",
       "42448763  6e57d2d7-6022-46e6-81d6-fa77f14cefd8  "
      ]
     },
     "metadata": {},
     "output_type": "display_data"
    }
   ],
   "source": [
    "# Time taken to read data\n",
    "s_time_engine = time.time()\n",
    "# Reading the data from file\n",
    "df_engine_c = pd.read_csv(\"../cBADatasets/2019-Oct.csv\", engine='c') \n",
    "display(df_engine_c.tail())\n",
    "e_time_engine = time.time()"
   ]
  },
  {
   "cell_type": "code",
   "execution_count": 11,
   "id": "ba12d888",
   "metadata": {},
   "outputs": [
    {
     "name": "stdout",
     "output_type": "stream",
     "text": [
      "Read with Engine:  49.170133113861084 seconds\n"
     ]
    }
   ],
   "source": [
    "print(\"Read with Engine: \", (e_time_engine - s_time_engine), \"seconds\")"
   ]
  },
  {
   "cell_type": "code",
   "execution_count": 12,
   "id": "9062723e",
   "metadata": {},
   "outputs": [
    {
     "data": {
      "text/plain": [
       "(42448764, 9)"
      ]
     },
     "execution_count": 12,
     "metadata": {},
     "output_type": "execute_result"
    }
   ],
   "source": [
    "df_engine_c.shape"
   ]
  },
  {
   "cell_type": "markdown",
   "id": "6cd7c94b",
   "metadata": {},
   "source": [
    "### Using Pandas only"
   ]
  },
  {
   "cell_type": "code",
   "execution_count": 4,
   "id": "ed28e3cb",
   "metadata": {},
   "outputs": [
    {
     "data": {
      "text/html": [
       "<div>\n",
       "<style scoped>\n",
       "    .dataframe tbody tr th:only-of-type {\n",
       "        vertical-align: middle;\n",
       "    }\n",
       "\n",
       "    .dataframe tbody tr th {\n",
       "        vertical-align: top;\n",
       "    }\n",
       "\n",
       "    .dataframe thead th {\n",
       "        text-align: right;\n",
       "    }\n",
       "</style>\n",
       "<table border=\"1\" class=\"dataframe\">\n",
       "  <thead>\n",
       "    <tr style=\"text-align: right;\">\n",
       "      <th></th>\n",
       "      <th>event_time</th>\n",
       "      <th>event_type</th>\n",
       "      <th>product_id</th>\n",
       "      <th>category_id</th>\n",
       "      <th>category_code</th>\n",
       "      <th>brand</th>\n",
       "      <th>price</th>\n",
       "      <th>user_id</th>\n",
       "      <th>user_session</th>\n",
       "    </tr>\n",
       "  </thead>\n",
       "  <tbody>\n",
       "    <tr>\n",
       "      <th>42448759</th>\n",
       "      <td>2019-10-31 23:59:58 UTC</td>\n",
       "      <td>view</td>\n",
       "      <td>2300275</td>\n",
       "      <td>2053013560530830019</td>\n",
       "      <td>electronics.camera.video</td>\n",
       "      <td>gopro</td>\n",
       "      <td>527.40</td>\n",
       "      <td>537931532</td>\n",
       "      <td>22c57267-da98-4f28-9a9c-18bb5b385193</td>\n",
       "    </tr>\n",
       "    <tr>\n",
       "      <th>42448760</th>\n",
       "      <td>2019-10-31 23:59:58 UTC</td>\n",
       "      <td>view</td>\n",
       "      <td>10800172</td>\n",
       "      <td>2053013554994348409</td>\n",
       "      <td>NaN</td>\n",
       "      <td>redmond</td>\n",
       "      <td>61.75</td>\n",
       "      <td>527322328</td>\n",
       "      <td>5054190a-46cb-4211-a8f1-16fc1a060ed8</td>\n",
       "    </tr>\n",
       "    <tr>\n",
       "      <th>42448761</th>\n",
       "      <td>2019-10-31 23:59:58 UTC</td>\n",
       "      <td>view</td>\n",
       "      <td>5701038</td>\n",
       "      <td>2053013553970938175</td>\n",
       "      <td>auto.accessories.player</td>\n",
       "      <td>kenwood</td>\n",
       "      <td>128.70</td>\n",
       "      <td>566280422</td>\n",
       "      <td>05b6c62b-992f-4e8e-91f7-961bcb4719cd</td>\n",
       "    </tr>\n",
       "    <tr>\n",
       "      <th>42448762</th>\n",
       "      <td>2019-10-31 23:59:59 UTC</td>\n",
       "      <td>view</td>\n",
       "      <td>21407424</td>\n",
       "      <td>2053013561579406073</td>\n",
       "      <td>electronics.clocks</td>\n",
       "      <td>tissot</td>\n",
       "      <td>689.85</td>\n",
       "      <td>513118352</td>\n",
       "      <td>4c14bf2a-2820-4504-929d-046356a5a204</td>\n",
       "    </tr>\n",
       "    <tr>\n",
       "      <th>42448763</th>\n",
       "      <td>2019-10-31 23:59:59 UTC</td>\n",
       "      <td>view</td>\n",
       "      <td>13300120</td>\n",
       "      <td>2053013557166998015</td>\n",
       "      <td>NaN</td>\n",
       "      <td>swisshome</td>\n",
       "      <td>155.73</td>\n",
       "      <td>525266378</td>\n",
       "      <td>6e57d2d7-6022-46e6-81d6-fa77f14cefd8</td>\n",
       "    </tr>\n",
       "  </tbody>\n",
       "</table>\n",
       "</div>"
      ],
      "text/plain": [
       "                       event_time event_type  product_id          category_id  \\\n",
       "42448759  2019-10-31 23:59:58 UTC       view     2300275  2053013560530830019   \n",
       "42448760  2019-10-31 23:59:58 UTC       view    10800172  2053013554994348409   \n",
       "42448761  2019-10-31 23:59:58 UTC       view     5701038  2053013553970938175   \n",
       "42448762  2019-10-31 23:59:59 UTC       view    21407424  2053013561579406073   \n",
       "42448763  2019-10-31 23:59:59 UTC       view    13300120  2053013557166998015   \n",
       "\n",
       "                     category_code      brand   price    user_id  \\\n",
       "42448759  electronics.camera.video      gopro  527.40  537931532   \n",
       "42448760                       NaN    redmond   61.75  527322328   \n",
       "42448761   auto.accessories.player    kenwood  128.70  566280422   \n",
       "42448762        electronics.clocks     tissot  689.85  513118352   \n",
       "42448763                       NaN  swisshome  155.73  525266378   \n",
       "\n",
       "                                  user_session  \n",
       "42448759  22c57267-da98-4f28-9a9c-18bb5b385193  \n",
       "42448760  5054190a-46cb-4211-a8f1-16fc1a060ed8  \n",
       "42448761  05b6c62b-992f-4e8e-91f7-961bcb4719cd  \n",
       "42448762  4c14bf2a-2820-4504-929d-046356a5a204  \n",
       "42448763  6e57d2d7-6022-46e6-81d6-fa77f14cefd8  "
      ]
     },
     "metadata": {},
     "output_type": "display_data"
    }
   ],
   "source": [
    "# Time taken to read data\n",
    "s_time = time.time()\n",
    "# Reading the data from file\n",
    "df = pd.read_csv(\"../cBADatasets/2019-Oct.csv\") \n",
    "display(df.tail())\n",
    "e_time = time.time()"
   ]
  },
  {
   "cell_type": "code",
   "execution_count": 5,
   "id": "1a415241",
   "metadata": {},
   "outputs": [
    {
     "name": "stdout",
     "output_type": "stream",
     "text": [
      "Read Only:  42.15915584564209 seconds\n"
     ]
    }
   ],
   "source": [
    "print(\"Read Only: \", (e_time - s_time), \"seconds\")"
   ]
  },
  {
   "cell_type": "markdown",
   "id": "03568a9f",
   "metadata": {},
   "source": [
    "### Exploring the data\n",
    "The data files for both *October* & *November* are very large in size so for this exercise, the data for only October will be selected and used. Let’s review and analyze what data is stored in which format.\n",
    "\n",
    "According to the output, there are nine columns in the **DataFrame**, which are described below:\n",
    "\n",
    "- `event_time`: The exact time when the activity occurred by a user\n",
    "\n",
    "- `event_type`: The type of activity occurred; there are three types in our case, i.e, view, cart, and purchase\n",
    "\n",
    "- `product_id`: The unique ID of a particular product\n",
    "\n",
    "- `category_id`: The unique ID of the category to which the product belongs to\n",
    "\n",
    "- `category_code`: The unique category code to which the product belongs to\n",
    "\n",
    "- `brand`: The brand name of the selected product\n",
    "\n",
    "- `price`: The price of the selected product\n",
    "\n",
    "- `user_id`: The unique ID of the user\n",
    "\n",
    "- `user_session`: The unique ID generated every time a user visits the site. It is different for every visit of a particular user"
   ]
  },
  {
   "cell_type": "markdown",
   "id": "267b4ddc",
   "metadata": {},
   "source": [
    "## Brand analysis\n",
    "A *brand* is a term that differentiates one product from another. In this analysis, we will review whether people like to purchase products with a popular brand or a product without a brand.\n",
    "\n",
    "For this analysis, only the products actually bought by the users will be considered. In our dataset, the products which have no brand are given a `NaN` value.\n",
    "This will be done in two steps:\n",
    "\n",
    "1. Separate the original `DataFrame` into two DataFrames. One with all the products with brands and one with all the products without brands.\n",
    "\n",
    "2. Fetch all those rows from the two `DataFrames` where the `event_type` value is `purchase`.\n",
    "\n",
    "As a final result, two `Dataframes` will be obtained containing the brand products with and without, that was purchased."
   ]
  },
  {
   "cell_type": "markdown",
   "id": "4d6c4e17",
   "metadata": {},
   "source": [
    "####  Step 1"
   ]
  },
  {
   "cell_type": "code",
   "execution_count": 6,
   "id": "e9aa6261",
   "metadata": {},
   "outputs": [],
   "source": [
    "# Fetch rows with brand\n",
    "with_brand = df[df['brand'].notna()]\n",
    "\n",
    "# Fetch rows without brand\n",
    "without_brand = df[df['brand'].isna()]\n"
   ]
  },
  {
   "cell_type": "markdown",
   "id": "235302c8",
   "metadata": {},
   "source": [
    "#### Step 2"
   ]
  },
  {
   "cell_type": "code",
   "execution_count": 7,
   "id": "8f3e3bad",
   "metadata": {},
   "outputs": [
    {
     "data": {
      "text/html": [
       "<div>\n",
       "<style scoped>\n",
       "    .dataframe tbody tr th:only-of-type {\n",
       "        vertical-align: middle;\n",
       "    }\n",
       "\n",
       "    .dataframe tbody tr th {\n",
       "        vertical-align: top;\n",
       "    }\n",
       "\n",
       "    .dataframe thead th {\n",
       "        text-align: right;\n",
       "    }\n",
       "</style>\n",
       "<table border=\"1\" class=\"dataframe\">\n",
       "  <thead>\n",
       "    <tr style=\"text-align: right;\">\n",
       "      <th></th>\n",
       "      <th>event_time</th>\n",
       "      <th>event_type</th>\n",
       "      <th>product_id</th>\n",
       "      <th>category_id</th>\n",
       "      <th>category_code</th>\n",
       "      <th>brand</th>\n",
       "      <th>price</th>\n",
       "      <th>user_id</th>\n",
       "      <th>user_session</th>\n",
       "    </tr>\n",
       "  </thead>\n",
       "  <tbody>\n",
       "    <tr>\n",
       "      <th>162</th>\n",
       "      <td>2019-10-01 00:02:14 UTC</td>\n",
       "      <td>purchase</td>\n",
       "      <td>1004856</td>\n",
       "      <td>2053013555631882655</td>\n",
       "      <td>electronics.smartphone</td>\n",
       "      <td>samsung</td>\n",
       "      <td>130.76</td>\n",
       "      <td>543272936</td>\n",
       "      <td>8187d148-3c41-46d4-b0c0-9c08cd9dc564</td>\n",
       "    </tr>\n",
       "    <tr>\n",
       "      <th>308</th>\n",
       "      <td>2019-10-01 00:04:37 UTC</td>\n",
       "      <td>purchase</td>\n",
       "      <td>1002532</td>\n",
       "      <td>2053013555631882655</td>\n",
       "      <td>electronics.smartphone</td>\n",
       "      <td>apple</td>\n",
       "      <td>642.69</td>\n",
       "      <td>551377651</td>\n",
       "      <td>3c80f0d6-e9ec-4181-8c5c-837a30be2d68</td>\n",
       "    </tr>\n",
       "    <tr>\n",
       "      <th>379</th>\n",
       "      <td>2019-10-01 00:06:02 UTC</td>\n",
       "      <td>purchase</td>\n",
       "      <td>5100816</td>\n",
       "      <td>2053013553375346967</td>\n",
       "      <td>NaN</td>\n",
       "      <td>xiaomi</td>\n",
       "      <td>29.51</td>\n",
       "      <td>514591159</td>\n",
       "      <td>0e5dfc4b-2a55-43e6-8c05-97e1f07fbb56</td>\n",
       "    </tr>\n",
       "    <tr>\n",
       "      <th>442</th>\n",
       "      <td>2019-10-01 00:07:07 UTC</td>\n",
       "      <td>purchase</td>\n",
       "      <td>13800054</td>\n",
       "      <td>2053013557418656265</td>\n",
       "      <td>furniture.bathroom.toilet</td>\n",
       "      <td>santeri</td>\n",
       "      <td>54.42</td>\n",
       "      <td>555332717</td>\n",
       "      <td>1dea3ee2-2ded-42e8-8e7a-4e2ad6ae942f</td>\n",
       "    </tr>\n",
       "    <tr>\n",
       "      <th>574</th>\n",
       "      <td>2019-10-01 00:09:26 UTC</td>\n",
       "      <td>purchase</td>\n",
       "      <td>4804055</td>\n",
       "      <td>2053013554658804075</td>\n",
       "      <td>electronics.audio.headphone</td>\n",
       "      <td>apple</td>\n",
       "      <td>189.91</td>\n",
       "      <td>524601178</td>\n",
       "      <td>2af9b570-0942-4dcd-8f25-4d84fba82553</td>\n",
       "    </tr>\n",
       "    <tr>\n",
       "      <th>...</th>\n",
       "      <td>...</td>\n",
       "      <td>...</td>\n",
       "      <td>...</td>\n",
       "      <td>...</td>\n",
       "      <td>...</td>\n",
       "      <td>...</td>\n",
       "      <td>...</td>\n",
       "      <td>...</td>\n",
       "      <td>...</td>\n",
       "    </tr>\n",
       "    <tr>\n",
       "      <th>42447959</th>\n",
       "      <td>2019-10-31 23:53:53 UTC</td>\n",
       "      <td>purchase</td>\n",
       "      <td>1004767</td>\n",
       "      <td>2053013555631882655</td>\n",
       "      <td>electronics.smartphone</td>\n",
       "      <td>samsung</td>\n",
       "      <td>242.63</td>\n",
       "      <td>542774966</td>\n",
       "      <td>957dc70c-31d3-42b7-aef0-2d2827c35251</td>\n",
       "    </tr>\n",
       "    <tr>\n",
       "      <th>42448173</th>\n",
       "      <td>2019-10-31 23:55:21 UTC</td>\n",
       "      <td>purchase</td>\n",
       "      <td>47500017</td>\n",
       "      <td>2110937143172923797</td>\n",
       "      <td>construction.tools.light</td>\n",
       "      <td>puckator</td>\n",
       "      <td>20.59</td>\n",
       "      <td>514622109</td>\n",
       "      <td>5724116e-365b-4ac1-9d03-b8d66e1ccc7c</td>\n",
       "    </tr>\n",
       "    <tr>\n",
       "      <th>42448271</th>\n",
       "      <td>2019-10-31 23:56:03 UTC</td>\n",
       "      <td>purchase</td>\n",
       "      <td>1003306</td>\n",
       "      <td>2053013555631882655</td>\n",
       "      <td>electronics.smartphone</td>\n",
       "      <td>apple</td>\n",
       "      <td>577.89</td>\n",
       "      <td>512717356</td>\n",
       "      <td>f35ac37c-9573-4e30-b3d9-c09bb0b95a2b</td>\n",
       "    </tr>\n",
       "    <tr>\n",
       "      <th>42448362</th>\n",
       "      <td>2019-10-31 23:56:53 UTC</td>\n",
       "      <td>purchase</td>\n",
       "      <td>1004240</td>\n",
       "      <td>2053013555631882655</td>\n",
       "      <td>electronics.smartphone</td>\n",
       "      <td>apple</td>\n",
       "      <td>1054.60</td>\n",
       "      <td>533892594</td>\n",
       "      <td>3a5a3b01-2ab1-4a1d-a202-30d336e0057b</td>\n",
       "    </tr>\n",
       "    <tr>\n",
       "      <th>42448657</th>\n",
       "      <td>2019-10-31 23:59:16 UTC</td>\n",
       "      <td>purchase</td>\n",
       "      <td>4804056</td>\n",
       "      <td>2053013554658804075</td>\n",
       "      <td>electronics.audio.headphone</td>\n",
       "      <td>apple</td>\n",
       "      <td>160.57</td>\n",
       "      <td>544501248</td>\n",
       "      <td>e330d051-37ad-4dc3-b1ee-ff16a28b7998</td>\n",
       "    </tr>\n",
       "  </tbody>\n",
       "</table>\n",
       "<p>684544 rows × 9 columns</p>\n",
       "</div>"
      ],
      "text/plain": [
       "                       event_time event_type  product_id          category_id  \\\n",
       "162       2019-10-01 00:02:14 UTC   purchase     1004856  2053013555631882655   \n",
       "308       2019-10-01 00:04:37 UTC   purchase     1002532  2053013555631882655   \n",
       "379       2019-10-01 00:06:02 UTC   purchase     5100816  2053013553375346967   \n",
       "442       2019-10-01 00:07:07 UTC   purchase    13800054  2053013557418656265   \n",
       "574       2019-10-01 00:09:26 UTC   purchase     4804055  2053013554658804075   \n",
       "...                           ...        ...         ...                  ...   \n",
       "42447959  2019-10-31 23:53:53 UTC   purchase     1004767  2053013555631882655   \n",
       "42448173  2019-10-31 23:55:21 UTC   purchase    47500017  2110937143172923797   \n",
       "42448271  2019-10-31 23:56:03 UTC   purchase     1003306  2053013555631882655   \n",
       "42448362  2019-10-31 23:56:53 UTC   purchase     1004240  2053013555631882655   \n",
       "42448657  2019-10-31 23:59:16 UTC   purchase     4804056  2053013554658804075   \n",
       "\n",
       "                        category_code     brand    price    user_id  \\\n",
       "162            electronics.smartphone   samsung   130.76  543272936   \n",
       "308            electronics.smartphone     apple   642.69  551377651   \n",
       "379                               NaN    xiaomi    29.51  514591159   \n",
       "442         furniture.bathroom.toilet   santeri    54.42  555332717   \n",
       "574       electronics.audio.headphone     apple   189.91  524601178   \n",
       "...                               ...       ...      ...        ...   \n",
       "42447959       electronics.smartphone   samsung   242.63  542774966   \n",
       "42448173     construction.tools.light  puckator    20.59  514622109   \n",
       "42448271       electronics.smartphone     apple   577.89  512717356   \n",
       "42448362       electronics.smartphone     apple  1054.60  533892594   \n",
       "42448657  electronics.audio.headphone     apple   160.57  544501248   \n",
       "\n",
       "                                  user_session  \n",
       "162       8187d148-3c41-46d4-b0c0-9c08cd9dc564  \n",
       "308       3c80f0d6-e9ec-4181-8c5c-837a30be2d68  \n",
       "379       0e5dfc4b-2a55-43e6-8c05-97e1f07fbb56  \n",
       "442       1dea3ee2-2ded-42e8-8e7a-4e2ad6ae942f  \n",
       "574       2af9b570-0942-4dcd-8f25-4d84fba82553  \n",
       "...                                        ...  \n",
       "42447959  957dc70c-31d3-42b7-aef0-2d2827c35251  \n",
       "42448173  5724116e-365b-4ac1-9d03-b8d66e1ccc7c  \n",
       "42448271  f35ac37c-9573-4e30-b3d9-c09bb0b95a2b  \n",
       "42448362  3a5a3b01-2ab1-4a1d-a202-30d336e0057b  \n",
       "42448657  e330d051-37ad-4dc3-b1ee-ff16a28b7998  \n",
       "\n",
       "[684544 rows x 9 columns]"
      ]
     },
     "execution_count": 7,
     "metadata": {},
     "output_type": "execute_result"
    }
   ],
   "source": [
    "# purchased products with brands\n",
    "with_brand = with_brand[with_brand['event_type'] == 'purchase']\n",
    "with_brand"
   ]
  },
  {
   "cell_type": "code",
   "execution_count": 8,
   "id": "75c9509f",
   "metadata": {},
   "outputs": [
    {
     "data": {
      "text/html": [
       "<div>\n",
       "<style scoped>\n",
       "    .dataframe tbody tr th:only-of-type {\n",
       "        vertical-align: middle;\n",
       "    }\n",
       "\n",
       "    .dataframe tbody tr th {\n",
       "        vertical-align: top;\n",
       "    }\n",
       "\n",
       "    .dataframe thead th {\n",
       "        text-align: right;\n",
       "    }\n",
       "</style>\n",
       "<table border=\"1\" class=\"dataframe\">\n",
       "  <thead>\n",
       "    <tr style=\"text-align: right;\">\n",
       "      <th></th>\n",
       "      <th>event_time</th>\n",
       "      <th>event_type</th>\n",
       "      <th>product_id</th>\n",
       "      <th>category_id</th>\n",
       "      <th>category_code</th>\n",
       "      <th>brand</th>\n",
       "      <th>price</th>\n",
       "      <th>user_id</th>\n",
       "      <th>user_session</th>\n",
       "    </tr>\n",
       "  </thead>\n",
       "  <tbody>\n",
       "    <tr>\n",
       "      <th>1760</th>\n",
       "      <td>2019-10-01 02:19:59 UTC</td>\n",
       "      <td>purchase</td>\n",
       "      <td>28100119</td>\n",
       "      <td>2053013564918072245</td>\n",
       "      <td>NaN</td>\n",
       "      <td>NaN</td>\n",
       "      <td>153.16</td>\n",
       "      <td>517953667</td>\n",
       "      <td>7954f58c-158d-402d-9820-c502a5eea86d</td>\n",
       "    </tr>\n",
       "    <tr>\n",
       "      <th>1884</th>\n",
       "      <td>2019-10-01 02:20:28 UTC</td>\n",
       "      <td>purchase</td>\n",
       "      <td>26601440</td>\n",
       "      <td>2053013563517174627</td>\n",
       "      <td>NaN</td>\n",
       "      <td>NaN</td>\n",
       "      <td>91.12</td>\n",
       "      <td>554101070</td>\n",
       "      <td>5a29c401-c05b-4dcf-b9e6-78324875dfd4</td>\n",
       "    </tr>\n",
       "    <tr>\n",
       "      <th>2321</th>\n",
       "      <td>2019-10-01 02:21:45 UTC</td>\n",
       "      <td>purchase</td>\n",
       "      <td>28100000</td>\n",
       "      <td>2053013564918072245</td>\n",
       "      <td>NaN</td>\n",
       "      <td>NaN</td>\n",
       "      <td>60.49</td>\n",
       "      <td>517953667</td>\n",
       "      <td>7954f58c-158d-402d-9820-c502a5eea86d</td>\n",
       "    </tr>\n",
       "    <tr>\n",
       "      <th>2778</th>\n",
       "      <td>2019-10-01 02:23:03 UTC</td>\n",
       "      <td>purchase</td>\n",
       "      <td>19100075</td>\n",
       "      <td>2053013556227473861</td>\n",
       "      <td>construction.tools.saw</td>\n",
       "      <td>NaN</td>\n",
       "      <td>120.47</td>\n",
       "      <td>513484630</td>\n",
       "      <td>92bc0a54-4dab-4748-9a39-edbb4c760254</td>\n",
       "    </tr>\n",
       "    <tr>\n",
       "      <th>3978</th>\n",
       "      <td>2019-10-01 02:26:02 UTC</td>\n",
       "      <td>purchase</td>\n",
       "      <td>34800175</td>\n",
       "      <td>2062461754293617058</td>\n",
       "      <td>NaN</td>\n",
       "      <td>NaN</td>\n",
       "      <td>33.46</td>\n",
       "      <td>512594464</td>\n",
       "      <td>f18609cf-7cab-47cf-aaf8-8622202722bd</td>\n",
       "    </tr>\n",
       "    <tr>\n",
       "      <th>...</th>\n",
       "      <td>...</td>\n",
       "      <td>...</td>\n",
       "      <td>...</td>\n",
       "      <td>...</td>\n",
       "      <td>...</td>\n",
       "      <td>...</td>\n",
       "      <td>...</td>\n",
       "      <td>...</td>\n",
       "      <td>...</td>\n",
       "    </tr>\n",
       "    <tr>\n",
       "      <th>42446989</th>\n",
       "      <td>2019-10-31 23:45:46 UTC</td>\n",
       "      <td>purchase</td>\n",
       "      <td>26500442</td>\n",
       "      <td>2053013563550729061</td>\n",
       "      <td>NaN</td>\n",
       "      <td>NaN</td>\n",
       "      <td>115.58</td>\n",
       "      <td>513911691</td>\n",
       "      <td>e6e67023-2258-4341-bd66-a9500d7da596</td>\n",
       "    </tr>\n",
       "    <tr>\n",
       "      <th>42447626</th>\n",
       "      <td>2019-10-31 23:51:02 UTC</td>\n",
       "      <td>purchase</td>\n",
       "      <td>15600016</td>\n",
       "      <td>2053013559767466645</td>\n",
       "      <td>NaN</td>\n",
       "      <td>NaN</td>\n",
       "      <td>419.55</td>\n",
       "      <td>542728394</td>\n",
       "      <td>e62b779b-d70e-4468-8f35-4bcf6879e471</td>\n",
       "    </tr>\n",
       "    <tr>\n",
       "      <th>42447890</th>\n",
       "      <td>2019-10-31 23:53:18 UTC</td>\n",
       "      <td>purchase</td>\n",
       "      <td>15600016</td>\n",
       "      <td>2053013559767466645</td>\n",
       "      <td>NaN</td>\n",
       "      <td>NaN</td>\n",
       "      <td>419.55</td>\n",
       "      <td>542728394</td>\n",
       "      <td>e62b779b-d70e-4468-8f35-4bcf6879e471</td>\n",
       "    </tr>\n",
       "    <tr>\n",
       "      <th>42448049</th>\n",
       "      <td>2019-10-31 23:54:33 UTC</td>\n",
       "      <td>purchase</td>\n",
       "      <td>26205284</td>\n",
       "      <td>2053013563693335403</td>\n",
       "      <td>NaN</td>\n",
       "      <td>NaN</td>\n",
       "      <td>143.89</td>\n",
       "      <td>513040838</td>\n",
       "      <td>639dc99e-72cd-433d-ad90-24c78d71418f</td>\n",
       "    </tr>\n",
       "    <tr>\n",
       "      <th>42448148</th>\n",
       "      <td>2019-10-31 23:55:13 UTC</td>\n",
       "      <td>purchase</td>\n",
       "      <td>26402784</td>\n",
       "      <td>2053013563651392361</td>\n",
       "      <td>NaN</td>\n",
       "      <td>NaN</td>\n",
       "      <td>102.45</td>\n",
       "      <td>516604399</td>\n",
       "      <td>a98bd433-57ac-42d0-ba81-e18b135a7a16</td>\n",
       "    </tr>\n",
       "  </tbody>\n",
       "</table>\n",
       "<p>58305 rows × 9 columns</p>\n",
       "</div>"
      ],
      "text/plain": [
       "                       event_time event_type  product_id          category_id  \\\n",
       "1760      2019-10-01 02:19:59 UTC   purchase    28100119  2053013564918072245   \n",
       "1884      2019-10-01 02:20:28 UTC   purchase    26601440  2053013563517174627   \n",
       "2321      2019-10-01 02:21:45 UTC   purchase    28100000  2053013564918072245   \n",
       "2778      2019-10-01 02:23:03 UTC   purchase    19100075  2053013556227473861   \n",
       "3978      2019-10-01 02:26:02 UTC   purchase    34800175  2062461754293617058   \n",
       "...                           ...        ...         ...                  ...   \n",
       "42446989  2019-10-31 23:45:46 UTC   purchase    26500442  2053013563550729061   \n",
       "42447626  2019-10-31 23:51:02 UTC   purchase    15600016  2053013559767466645   \n",
       "42447890  2019-10-31 23:53:18 UTC   purchase    15600016  2053013559767466645   \n",
       "42448049  2019-10-31 23:54:33 UTC   purchase    26205284  2053013563693335403   \n",
       "42448148  2019-10-31 23:55:13 UTC   purchase    26402784  2053013563651392361   \n",
       "\n",
       "                   category_code brand   price    user_id  \\\n",
       "1760                         NaN   NaN  153.16  517953667   \n",
       "1884                         NaN   NaN   91.12  554101070   \n",
       "2321                         NaN   NaN   60.49  517953667   \n",
       "2778      construction.tools.saw   NaN  120.47  513484630   \n",
       "3978                         NaN   NaN   33.46  512594464   \n",
       "...                          ...   ...     ...        ...   \n",
       "42446989                     NaN   NaN  115.58  513911691   \n",
       "42447626                     NaN   NaN  419.55  542728394   \n",
       "42447890                     NaN   NaN  419.55  542728394   \n",
       "42448049                     NaN   NaN  143.89  513040838   \n",
       "42448148                     NaN   NaN  102.45  516604399   \n",
       "\n",
       "                                  user_session  \n",
       "1760      7954f58c-158d-402d-9820-c502a5eea86d  \n",
       "1884      5a29c401-c05b-4dcf-b9e6-78324875dfd4  \n",
       "2321      7954f58c-158d-402d-9820-c502a5eea86d  \n",
       "2778      92bc0a54-4dab-4748-9a39-edbb4c760254  \n",
       "3978      f18609cf-7cab-47cf-aaf8-8622202722bd  \n",
       "...                                        ...  \n",
       "42446989  e6e67023-2258-4341-bd66-a9500d7da596  \n",
       "42447626  e62b779b-d70e-4468-8f35-4bcf6879e471  \n",
       "42447890  e62b779b-d70e-4468-8f35-4bcf6879e471  \n",
       "42448049  639dc99e-72cd-433d-ad90-24c78d71418f  \n",
       "42448148  a98bd433-57ac-42d0-ba81-e18b135a7a16  \n",
       "\n",
       "[58305 rows x 9 columns]"
      ]
     },
     "execution_count": 8,
     "metadata": {},
     "output_type": "execute_result"
    }
   ],
   "source": [
    "# Purchased products without brands\n",
    "without_brand = without_brand[without_brand['event_type'] == 'purchase']\n",
    "without_brand"
   ]
  },
  {
   "cell_type": "markdown",
   "id": "29f7bf56",
   "metadata": {},
   "source": [
    "In the output, we can see that the products have been correctly filtered, and two DataFrames have been obtained: one with purchased branded products and the other with purchased non-branded products."
   ]
  },
  {
   "cell_type": "markdown",
   "id": "dc1ef1f0",
   "metadata": {},
   "source": [
    "Let’s review how much percentage of branded and non-branded products were bought."
   ]
  },
  {
   "cell_type": "code",
   "execution_count": 9,
   "id": "d0102a18",
   "metadata": {},
   "outputs": [],
   "source": [
    "# Get length of original dataframe with purchased products\n",
    "org = (len(df[df['event_type'] == 'purchase']))\n"
   ]
  },
  {
   "cell_type": "code",
   "execution_count": 10,
   "id": "ce247e6d",
   "metadata": {},
   "outputs": [
    {
     "name": "stdout",
     "output_type": "stream",
     "text": [
      "Brand products purchase = 92.15116396468193 %\n"
     ]
    }
   ],
   "source": [
    "# Didvide the length of with_brand dataframe with length org dataframe\n",
    "brand_p = len(with_brand) / org\n",
    "print('Brand products purchase =', brand_p * 100, '%')"
   ]
  },
  {
   "cell_type": "code",
   "execution_count": 11,
   "id": "31f97e01",
   "metadata": {},
   "outputs": [
    {
     "name": "stdout",
     "output_type": "stream",
     "text": [
      "Without Brand products purchase = 7.8488360353180795 %\n"
     ]
    }
   ],
   "source": [
    "# Divide the length of without_brand dataframe with length org dataframe\n",
    "brand_a = len(without_brand) / org\n",
    "print('Without Brand products purchase =', brand_a * 100, '%')"
   ]
  },
  {
   "cell_type": "markdown",
   "id": "3d869e6b",
   "metadata": {},
   "source": [
    "According to the above output, approximately **92%** of the purchased products were associated with a brand, and only **8%** of products without a brand were bought."
   ]
  },
  {
   "cell_type": "markdown",
   "id": "4cd9cb99",
   "metadata": {},
   "source": [
    "### The hypothesis\n",
    "A hypothesis can be drawn based on the above results.\n",
    "\n",
    "- For marketers, most of the marketing budget should be allotted to the advertisement of branded products.\n",
    "\n",
    "- For inventors or entrepreneurs, always introduce the product with a brand name because products without a brand have a very low probability of getting bought."
   ]
  },
  {
   "cell_type": "markdown",
   "id": "bb0b2bb5",
   "metadata": {},
   "source": [
    "## Customer Activity Analysis\n",
    "the customers activity data throughout the month will be analyzed."
   ]
  },
  {
   "cell_type": "markdown",
   "id": "f989a7ee",
   "metadata": {},
   "source": [
    "### Users activity\n",
    "the user can perform three actions that get recorded in the dataset.\n",
    "- **view**: The user can view an item.\n",
    "- **cart**: The user can add the item to the cart.\n",
    "- **purchase**: The user can purchase the item.\n",
    "\n",
    "Analyzing the *view* and *purchasing* actions of the user across the different timelines in a month can provide very important information as to at what time most of the users visit the site. When such times are known, resources can be allocated according to that information to optimize performance.\n",
    "\n",
    "For example, if we know that a significant amount of users visit the site on Sunday just to view the products, resources from other components can be transferred to viewing components to enhance the user experience. Similarly, the same approach can be used on other components if we know at what times certain, user activity is preferred.\n",
    "\n",
    "Let’s apply this approach to our data and review what analysis can be drawn from it."
   ]
  },
  {
   "cell_type": "markdown",
   "id": "0b2c1fac",
   "metadata": {},
   "source": [
    "### Preprocessing\n",
    "Before we move to extract information, some preprocessing needs to be done on our initial `DataFrame`. The time values are separated from the `event_time` column and are made into separate columns. The `day`, `week_day`, and `hour` are computed for each `event_time` value."
   ]
  },
  {
   "cell_type": "code",
   "execution_count": 66,
   "id": "d0afc7a6",
   "metadata": {},
   "outputs": [],
   "source": [
    "# Convert the type of event_time column to datetime\n",
    "df['event_time'] = pd.to_datetime(df.event_time)"
   ]
  },
  {
   "cell_type": "code",
   "execution_count": 67,
   "id": "fa77ffca",
   "metadata": {},
   "outputs": [],
   "source": [
    "# Calculate and add week_day column to track users activity \n",
    "df['week_day'] = df['event_time'].map(lambda x: x.dayofweek+1)"
   ]
  },
  {
   "cell_type": "markdown",
   "id": "0aff8e7d",
   "metadata": {},
   "source": [
    "The `week_day` column stores which day of the week it is, from **1 to 7**, as Monday to Sunday."
   ]
  },
  {
   "cell_type": "code",
   "execution_count": 68,
   "id": "906a1dd7",
   "metadata": {},
   "outputs": [],
   "source": [
    "# Calculate and add day column to track users activity \n",
    "df['day'] = df['event_time'].map(lambda x: x.day)"
   ]
  },
  {
   "cell_type": "markdown",
   "id": "ce6b04f6",
   "metadata": {},
   "source": [
    "The `day` column stores the daily values starting from **1 to 31**, in case of October."
   ]
  },
  {
   "cell_type": "code",
   "execution_count": 69,
   "id": "43c89991",
   "metadata": {},
   "outputs": [],
   "source": [
    "# Calculate and add hour column to track users activity \n",
    "df['hour'] = df['event_time'].map(lambda x: x.hour)"
   ]
  },
  {
   "cell_type": "markdown",
   "id": "7f06cc02",
   "metadata": {},
   "source": [
    "The `hour` column stores every hour value of every day starting from **0-23**, denoting what hour it is at that moment."
   ]
  },
  {
   "cell_type": "code",
   "execution_count": 70,
   "id": "54255cde",
   "metadata": {},
   "outputs": [
    {
     "data": {
      "text/html": [
       "<div>\n",
       "<style scoped>\n",
       "    .dataframe tbody tr th:only-of-type {\n",
       "        vertical-align: middle;\n",
       "    }\n",
       "\n",
       "    .dataframe tbody tr th {\n",
       "        vertical-align: top;\n",
       "    }\n",
       "\n",
       "    .dataframe thead th {\n",
       "        text-align: right;\n",
       "    }\n",
       "</style>\n",
       "<table border=\"1\" class=\"dataframe\">\n",
       "  <thead>\n",
       "    <tr style=\"text-align: right;\">\n",
       "      <th></th>\n",
       "      <th>event_time</th>\n",
       "      <th>event_type</th>\n",
       "      <th>product_id</th>\n",
       "      <th>category_id</th>\n",
       "      <th>category_code</th>\n",
       "      <th>brand</th>\n",
       "      <th>price</th>\n",
       "      <th>user_id</th>\n",
       "      <th>user_session</th>\n",
       "      <th>week_day</th>\n",
       "      <th>day</th>\n",
       "      <th>hour</th>\n",
       "    </tr>\n",
       "  </thead>\n",
       "  <tbody>\n",
       "    <tr>\n",
       "      <th>12783566</th>\n",
       "      <td>2019-10-10 20:16:03+00:00</td>\n",
       "      <td>view</td>\n",
       "      <td>4804055</td>\n",
       "      <td>2053013554658804075</td>\n",
       "      <td>electronics.audio.headphone</td>\n",
       "      <td>apple</td>\n",
       "      <td>191.63</td>\n",
       "      <td>548568136</td>\n",
       "      <td>b5f493a8-02b0-4cf9-80ad-2ae8f9d08bb9</td>\n",
       "      <td>4</td>\n",
       "      <td>10</td>\n",
       "      <td>20</td>\n",
       "    </tr>\n",
       "    <tr>\n",
       "      <th>7348879</th>\n",
       "      <td>2019-10-06 16:36:28+00:00</td>\n",
       "      <td>view</td>\n",
       "      <td>25700329</td>\n",
       "      <td>2053013564968403895</td>\n",
       "      <td>NaN</td>\n",
       "      <td>NaN</td>\n",
       "      <td>138.97</td>\n",
       "      <td>517629262</td>\n",
       "      <td>df6b726d-04c7-4e77-b781-eb3cb426d765</td>\n",
       "      <td>7</td>\n",
       "      <td>6</td>\n",
       "      <td>16</td>\n",
       "    </tr>\n",
       "    <tr>\n",
       "      <th>28399808</th>\n",
       "      <td>2019-10-21 10:33:25+00:00</td>\n",
       "      <td>purchase</td>\n",
       "      <td>1004258</td>\n",
       "      <td>2053013555631882655</td>\n",
       "      <td>electronics.smartphone</td>\n",
       "      <td>apple</td>\n",
       "      <td>746.22</td>\n",
       "      <td>518672685</td>\n",
       "      <td>bbcbcb47-75fe-4107-a213-b9e281a10755</td>\n",
       "      <td>1</td>\n",
       "      <td>21</td>\n",
       "      <td>10</td>\n",
       "    </tr>\n",
       "    <tr>\n",
       "      <th>30226470</th>\n",
       "      <td>2019-10-22 15:34:54+00:00</td>\n",
       "      <td>view</td>\n",
       "      <td>12702956</td>\n",
       "      <td>2053013553559896355</td>\n",
       "      <td>NaN</td>\n",
       "      <td>nokian</td>\n",
       "      <td>49.94</td>\n",
       "      <td>552368248</td>\n",
       "      <td>9b5eb9e7-aa68-4098-bce2-85be2952d0af</td>\n",
       "      <td>2</td>\n",
       "      <td>22</td>\n",
       "      <td>15</td>\n",
       "    </tr>\n",
       "    <tr>\n",
       "      <th>7001816</th>\n",
       "      <td>2019-10-06 12:15:12+00:00</td>\n",
       "      <td>view</td>\n",
       "      <td>4803977</td>\n",
       "      <td>2053013554658804075</td>\n",
       "      <td>electronics.audio.headphone</td>\n",
       "      <td>samsung</td>\n",
       "      <td>107.71</td>\n",
       "      <td>521791032</td>\n",
       "      <td>71305e8f-a8f9-49b8-a4d3-f04a2a5a3cd8</td>\n",
       "      <td>7</td>\n",
       "      <td>6</td>\n",
       "      <td>12</td>\n",
       "    </tr>\n",
       "    <tr>\n",
       "      <th>31549161</th>\n",
       "      <td>2019-10-23 14:51:40+00:00</td>\n",
       "      <td>view</td>\n",
       "      <td>1003992</td>\n",
       "      <td>2053013555631882655</td>\n",
       "      <td>electronics.smartphone</td>\n",
       "      <td>lg</td>\n",
       "      <td>216.20</td>\n",
       "      <td>562255922</td>\n",
       "      <td>8eacac6d-b791-459d-b5ac-71cbc77233f3</td>\n",
       "      <td>3</td>\n",
       "      <td>23</td>\n",
       "      <td>14</td>\n",
       "    </tr>\n",
       "    <tr>\n",
       "      <th>26122151</th>\n",
       "      <td>2019-10-19 18:10:14+00:00</td>\n",
       "      <td>view</td>\n",
       "      <td>1801766</td>\n",
       "      <td>2053013554415534427</td>\n",
       "      <td>electronics.video.tv</td>\n",
       "      <td>artel</td>\n",
       "      <td>148.00</td>\n",
       "      <td>562006501</td>\n",
       "      <td>55d816df-322c-4f65-a641-383895b2a0e7</td>\n",
       "      <td>6</td>\n",
       "      <td>19</td>\n",
       "      <td>18</td>\n",
       "    </tr>\n",
       "    <tr>\n",
       "      <th>19279832</th>\n",
       "      <td>2019-10-15 07:24:50+00:00</td>\n",
       "      <td>view</td>\n",
       "      <td>12712786</td>\n",
       "      <td>2053013553559896355</td>\n",
       "      <td>NaN</td>\n",
       "      <td>triangle</td>\n",
       "      <td>49.42</td>\n",
       "      <td>514044414</td>\n",
       "      <td>2fdcbd79-1980-4b57-bf7c-9511aebf49c1</td>\n",
       "      <td>2</td>\n",
       "      <td>15</td>\n",
       "      <td>7</td>\n",
       "    </tr>\n",
       "    <tr>\n",
       "      <th>9461640</th>\n",
       "      <td>2019-10-08 11:08:51+00:00</td>\n",
       "      <td>view</td>\n",
       "      <td>2501751</td>\n",
       "      <td>2053013564003713919</td>\n",
       "      <td>appliances.kitchen.oven</td>\n",
       "      <td>artel</td>\n",
       "      <td>41.08</td>\n",
       "      <td>516641924</td>\n",
       "      <td>25d7b815-471a-47e9-9619-6fd77d516acd</td>\n",
       "      <td>2</td>\n",
       "      <td>8</td>\n",
       "      <td>11</td>\n",
       "    </tr>\n",
       "    <tr>\n",
       "      <th>38424096</th>\n",
       "      <td>2019-10-28 16:00:40+00:00</td>\n",
       "      <td>view</td>\n",
       "      <td>1005221</td>\n",
       "      <td>2053013555631882655</td>\n",
       "      <td>electronics.smartphone</td>\n",
       "      <td>xiaomi</td>\n",
       "      <td>308.89</td>\n",
       "      <td>513255046</td>\n",
       "      <td>0f121e68-ec53-4c47-91b1-43af9d558855</td>\n",
       "      <td>1</td>\n",
       "      <td>28</td>\n",
       "      <td>16</td>\n",
       "    </tr>\n",
       "  </tbody>\n",
       "</table>\n",
       "</div>"
      ],
      "text/plain": [
       "                        event_time event_type  product_id  \\\n",
       "12783566 2019-10-10 20:16:03+00:00       view     4804055   \n",
       "7348879  2019-10-06 16:36:28+00:00       view    25700329   \n",
       "28399808 2019-10-21 10:33:25+00:00   purchase     1004258   \n",
       "30226470 2019-10-22 15:34:54+00:00       view    12702956   \n",
       "7001816  2019-10-06 12:15:12+00:00       view     4803977   \n",
       "31549161 2019-10-23 14:51:40+00:00       view     1003992   \n",
       "26122151 2019-10-19 18:10:14+00:00       view     1801766   \n",
       "19279832 2019-10-15 07:24:50+00:00       view    12712786   \n",
       "9461640  2019-10-08 11:08:51+00:00       view     2501751   \n",
       "38424096 2019-10-28 16:00:40+00:00       view     1005221   \n",
       "\n",
       "                  category_id                category_code     brand   price  \\\n",
       "12783566  2053013554658804075  electronics.audio.headphone     apple  191.63   \n",
       "7348879   2053013564968403895                          NaN       NaN  138.97   \n",
       "28399808  2053013555631882655       electronics.smartphone     apple  746.22   \n",
       "30226470  2053013553559896355                          NaN    nokian   49.94   \n",
       "7001816   2053013554658804075  electronics.audio.headphone   samsung  107.71   \n",
       "31549161  2053013555631882655       electronics.smartphone        lg  216.20   \n",
       "26122151  2053013554415534427         electronics.video.tv     artel  148.00   \n",
       "19279832  2053013553559896355                          NaN  triangle   49.42   \n",
       "9461640   2053013564003713919      appliances.kitchen.oven     artel   41.08   \n",
       "38424096  2053013555631882655       electronics.smartphone    xiaomi  308.89   \n",
       "\n",
       "            user_id                          user_session  week_day  day  hour  \n",
       "12783566  548568136  b5f493a8-02b0-4cf9-80ad-2ae8f9d08bb9         4   10    20  \n",
       "7348879   517629262  df6b726d-04c7-4e77-b781-eb3cb426d765         7    6    16  \n",
       "28399808  518672685  bbcbcb47-75fe-4107-a213-b9e281a10755         1   21    10  \n",
       "30226470  552368248  9b5eb9e7-aa68-4098-bce2-85be2952d0af         2   22    15  \n",
       "7001816   521791032  71305e8f-a8f9-49b8-a4d3-f04a2a5a3cd8         7    6    12  \n",
       "31549161  562255922  8eacac6d-b791-459d-b5ac-71cbc77233f3         3   23    14  \n",
       "26122151  562006501  55d816df-322c-4f65-a641-383895b2a0e7         6   19    18  \n",
       "19279832  514044414  2fdcbd79-1980-4b57-bf7c-9511aebf49c1         2   15     7  \n",
       "9461640   516641924  25d7b815-471a-47e9-9619-6fd77d516acd         2    8    11  \n",
       "38424096  513255046  0f121e68-ec53-4c47-91b1-43af9d558855         1   28    16  "
      ]
     },
     "execution_count": 70,
     "metadata": {},
     "output_type": "execute_result"
    }
   ],
   "source": [
    "df.sample(10)"
   ]
  },
  {
   "cell_type": "markdown",
   "id": "71faafa8",
   "metadata": {},
   "source": [
    "### Weekly analysis\n",
    "\n",
    "we will review a weekly analysis of the number of views. This will reveal the day of the week on which the most or least number of views occur for the website."
   ]
  },
  {
   "cell_type": "code",
   "execution_count": 71,
   "id": "418657f7",
   "metadata": {},
   "outputs": [
    {
     "data": {
      "text/plain": [
       "array([2, 3, 4, 5, 6, 7, 1])"
      ]
     },
     "metadata": {},
     "output_type": "display_data"
    }
   ],
   "source": [
    "# Unique value in week_day column\n",
    "display(df.week_day.unique())"
   ]
  },
  {
   "cell_type": "code",
   "execution_count": 72,
   "id": "f74b8e33",
   "metadata": {},
   "outputs": [],
   "source": [
    "import matplotlib.pyplot as plt"
   ]
  },
  {
   "cell_type": "code",
   "execution_count": 73,
   "id": "4768d543",
   "metadata": {},
   "outputs": [],
   "source": [
    "# Get all the view events of all users\n",
    "viewed = df[df['event_type'] == 'view']"
   ]
  },
  {
   "cell_type": "code",
   "execution_count": 74,
   "id": "61108852",
   "metadata": {},
   "outputs": [
    {
     "data": {
      "image/png": "[encoded data removed]",
      "text/plain": [
       "<Figure size 1500x600 with 1 Axes>"
      ]
     },
     "metadata": {},
     "output_type": "display_data"
    }
   ],
   "source": [
    "# plot the number views against all week days in a line chart\n",
    "view_plot = viewed.groupby('event_type')['week_day'].value_counts().sort_index().plot(kind='line', figsize = (15, 6))\n",
    "\n",
    "# set properties of the plot\n",
    "view_plot.set_xlabel('Day of the week', fontsize = 15)\n",
    "view_plot.set_ylabel('Number of Views', fontsize = 15)\n",
    "view_plot.set_title('Number of views for defferent week Days', fontsize = 15)\n",
    "view_plot.set_xticklabels((\" \", 'Mon','Tue','Wed','Thur','Fri', 'Sat','Sun', \" \"), rotation='horizontal', fontsize=15)\n",
    "\n",
    "# plot the graph\n",
    "plt.show()"
   ]
  },
  {
   "cell_type": "markdown",
   "id": "5d49c93e",
   "metadata": {},
   "source": [
    "In the above graph, it can be observed that most items are viewed during the working days instead of on the weekends. This represents the aggregated number of website views for all the weekdays of October 2019."
   ]
  },
  {
   "cell_type": "code",
   "execution_count": 75,
   "id": "e3afccc5",
   "metadata": {},
   "outputs": [
    {
     "data": {
      "image/png": "[encoded data removed]",
      "text/plain": [
       "<Figure size 1500x600 with 1 Axes>"
      ]
     },
     "metadata": {},
     "output_type": "display_data"
    }
   ],
   "source": [
    "# plot the number views against all 24 hours of the days in a bar chart\n",
    "view_plot = viewed.groupby('event_type')['hour'].value_counts().sort_index().plot(kind='bar', figsize = (15, 6))\n",
    "\n",
    "# set properties of the plot\n",
    "view_plot.set_xlabel('Hour', fontsize = 15)\n",
    "view_plot.set_ylabel('Number of Views', fontsize = 15)\n",
    "view_plot.set_title('Number of views for defferent Hours of Days', fontsize = 15)\n",
    "view_plot.set_xticklabels(range(1, 25), rotation='horizontal', fontsize=15)\n",
    "\n",
    "# plot the graph\n",
    "plt.show()"
   ]
  },
  {
   "cell_type": "markdown",
   "id": "f55c3729",
   "metadata": {},
   "source": [
    "In the above graph, it can be observed that most items are viewed in the working hours instead of the free hours. The number of views starts increasing from the start of the day, reaching their peak between **3 and 5 P.M.** Then it starts to drop. This is the combined result for each day of October 2019."
   ]
  },
  {
   "cell_type": "code",
   "execution_count": 77,
   "id": "e67ba9b3",
   "metadata": {
    "scrolled": true
   },
   "outputs": [
    {
     "data": {
      "image/png": "[encoded data removed]",
      "text/plain": [
       "<Figure size 1500x600 with 1 Axes>"
      ]
     },
     "metadata": {},
     "output_type": "display_data"
    }
   ],
   "source": [
    "# plot the number views against all 24 hours of the days in a bar chart\n",
    "view_plot = viewed.groupby('event_type')['day'].value_counts().sort_index().plot(kind='bar', figsize = (15, 6))\n",
    "\n",
    "# set properties of the plot\n",
    "view_plot.set_xlabel('Day', fontsize = 15)\n",
    "view_plot.set_ylabel('Number of Views', fontsize = 15)\n",
    "view_plot.set_title('Number of views for defferent Days of October', fontsize = 15)\n",
    "view_plot.set_xticklabels(range(1, 32), rotation='horizontal', fontsize=15)\n",
    "\n",
    "# plot the graph\n",
    "plt.show()"
   ]
  },
  {
   "cell_type": "markdown",
   "id": "f319f5e4",
   "metadata": {},
   "source": [
    "### The hypothesis\n",
    "\n",
    "From the above weekly and hourly analysis, it can be observed that most of the users like to browse the items during working hours of working days. Other time slots are also important but at these time slots, most resources should be allocated to the viewing or browsing component of the website to optimize and enhance user experience which in turn brings profit."
   ]
  },
  {
   "cell_type": "markdown",
   "id": "da445002",
   "metadata": {},
   "source": [
    "## Identifying Famous Brands and Categories\n",
    "The most famous brands and categories are fetched from our dataset.\n",
    "\n",
    "- Top brands\n",
    "- Top categories\n",
    "- The hypothesis\n",
    "\n",
    "The most common problem faced by any business is inventory management. Sometimes business owners either have too much of a product that is not being sold or too little of a product whose demand is very high. This can cause a substantial loss to a company’s profits and reputation. For more information on this problem, refer [here](https://www.business2community.com/product-management/6-times-horrific-inventory-control-almost-killed-companies-01659644).\n",
    "\n",
    "If we somehow know what products from which brands and categories are selling the most in the market, then inventory management can be optimized to some level. Here, products from which brand and category were bought the most will be determined.\n",
    "\n"
   ]
  },
  {
   "cell_type": "markdown",
   "id": "10e947ff",
   "metadata": {},
   "source": [
    "### Top brands\n",
    "First, the data will be read and the event_time column will be converted to DateTime format. Then, the following steps will be performed to obtain the top brands."
   ]
  },
  {
   "cell_type": "code",
   "execution_count": 78,
   "id": "42fd8c5b",
   "metadata": {},
   "outputs": [],
   "source": [
    "# Get rows where products are purchased\n",
    "purchase = df[df['event_type'] == 'purchase']"
   ]
  },
  {
   "cell_type": "code",
   "execution_count": 80,
   "id": "ea33ff33",
   "metadata": {},
   "outputs": [],
   "source": [
    "# Group the DataFrame on brands\n",
    "top_brands = purchase.groupby('brand')\n",
    "\n",
    "# Get number of products bought by computing length of each grouped brand\n",
    "top_brands = top_brands['brand'].agg([len])\n",
    "\n",
    "# Sort the result on obtained length in descenging order\n",
    "top_brands.sort_values('len', ascending=False, inplace=True)\n"
   ]
  },
  {
   "cell_type": "code",
   "execution_count": 84,
   "id": "99310cc7",
   "metadata": {},
   "outputs": [
    {
     "data": {
      "text/html": [
       "<div>\n",
       "<style scoped>\n",
       "    .dataframe tbody tr th:only-of-type {\n",
       "        vertical-align: middle;\n",
       "    }\n",
       "\n",
       "    .dataframe tbody tr th {\n",
       "        vertical-align: top;\n",
       "    }\n",
       "\n",
       "    .dataframe thead th {\n",
       "        text-align: right;\n",
       "    }\n",
       "</style>\n",
       "<table border=\"1\" class=\"dataframe\">\n",
       "  <thead>\n",
       "    <tr style=\"text-align: right;\">\n",
       "      <th></th>\n",
       "      <th>len</th>\n",
       "    </tr>\n",
       "    <tr>\n",
       "      <th>brand</th>\n",
       "      <th></th>\n",
       "    </tr>\n",
       "  </thead>\n",
       "  <tbody>\n",
       "    <tr>\n",
       "      <th>samsung</th>\n",
       "      <td>172896</td>\n",
       "    </tr>\n",
       "    <tr>\n",
       "      <th>apple</th>\n",
       "      <td>142873</td>\n",
       "    </tr>\n",
       "    <tr>\n",
       "      <th>xiaomi</th>\n",
       "      <td>56616</td>\n",
       "    </tr>\n",
       "    <tr>\n",
       "      <th>huawei</th>\n",
       "      <td>23501</td>\n",
       "    </tr>\n",
       "    <tr>\n",
       "      <th>lucente</th>\n",
       "      <td>11578</td>\n",
       "    </tr>\n",
       "    <tr>\n",
       "      <th>...</th>\n",
       "      <td>...</td>\n",
       "    </tr>\n",
       "    <tr>\n",
       "      <th>plantex</th>\n",
       "      <td>1</td>\n",
       "    </tr>\n",
       "    <tr>\n",
       "      <th>playmates</th>\n",
       "      <td>1</td>\n",
       "    </tr>\n",
       "    <tr>\n",
       "      <th>libbey</th>\n",
       "      <td>1</td>\n",
       "    </tr>\n",
       "    <tr>\n",
       "      <th>alser</th>\n",
       "      <td>1</td>\n",
       "    </tr>\n",
       "    <tr>\n",
       "      <th>borasco</th>\n",
       "      <td>1</td>\n",
       "    </tr>\n",
       "  </tbody>\n",
       "</table>\n",
       "<p>1983 rows × 1 columns</p>\n",
       "</div>"
      ],
      "text/plain": [
       "              len\n",
       "brand            \n",
       "samsung    172896\n",
       "apple      142873\n",
       "xiaomi      56616\n",
       "huawei      23501\n",
       "lucente     11578\n",
       "...           ...\n",
       "plantex         1\n",
       "playmates       1\n",
       "libbey          1\n",
       "alser           1\n",
       "borasco         1\n",
       "\n",
       "[1983 rows x 1 columns]"
      ]
     },
     "execution_count": 84,
     "metadata": {},
     "output_type": "execute_result"
    }
   ],
   "source": [
    "top_brands"
   ]
  },
  {
   "cell_type": "markdown",
   "id": "ad65e9fc",
   "metadata": {},
   "source": [
    "According to this, **Samsung** is the most famous brand whose products are being bought in excessive quantities."
   ]
  },
  {
   "cell_type": "markdown",
   "id": "b304fb12",
   "metadata": {},
   "source": [
    "### Top categories\n",
    "The same steps as above will be performed here, but instead of the `brand` column, the `category_code` column will be used."
   ]
  },
  {
   "cell_type": "code",
   "execution_count": 85,
   "id": "c6d38b9c",
   "metadata": {},
   "outputs": [],
   "source": [
    "# Group the DataFrame on category_code\n",
    "top_catg = purchase.groupby('category_code')\n",
    "\n",
    "# Get number of products bought by computing length of each grouped category_code\n",
    "top_catg = top_catg['category_code'].agg([len])\n",
    "\n",
    "# Sort the result on obtained length in descenging order\n",
    "top_catg.sort_values('len', ascending=False, inplace=True)"
   ]
  },
  {
   "cell_type": "code",
   "execution_count": 86,
   "id": "7486f4d3",
   "metadata": {},
   "outputs": [
    {
     "data": {
      "text/html": [
       "<div>\n",
       "<style scoped>\n",
       "    .dataframe tbody tr th:only-of-type {\n",
       "        vertical-align: middle;\n",
       "    }\n",
       "\n",
       "    .dataframe tbody tr th {\n",
       "        vertical-align: top;\n",
       "    }\n",
       "\n",
       "    .dataframe thead th {\n",
       "        text-align: right;\n",
       "    }\n",
       "</style>\n",
       "<table border=\"1\" class=\"dataframe\">\n",
       "  <thead>\n",
       "    <tr style=\"text-align: right;\">\n",
       "      <th></th>\n",
       "      <th>len</th>\n",
       "    </tr>\n",
       "    <tr>\n",
       "      <th>category_code</th>\n",
       "      <th></th>\n",
       "    </tr>\n",
       "  </thead>\n",
       "  <tbody>\n",
       "    <tr>\n",
       "      <th>electronics.smartphone</th>\n",
       "      <td>338018</td>\n",
       "    </tr>\n",
       "    <tr>\n",
       "      <th>electronics.audio.headphone</th>\n",
       "      <td>30503</td>\n",
       "    </tr>\n",
       "    <tr>\n",
       "      <th>electronics.video.tv</th>\n",
       "      <td>21565</td>\n",
       "    </tr>\n",
       "    <tr>\n",
       "      <th>electronics.clocks</th>\n",
       "      <td>17906</td>\n",
       "    </tr>\n",
       "    <tr>\n",
       "      <th>appliances.kitchen.washer</th>\n",
       "      <td>16148</td>\n",
       "    </tr>\n",
       "    <tr>\n",
       "      <th>...</th>\n",
       "      <td>...</td>\n",
       "    </tr>\n",
       "    <tr>\n",
       "      <th>apparel.skirt</th>\n",
       "      <td>4</td>\n",
       "    </tr>\n",
       "    <tr>\n",
       "      <th>apparel.shorts</th>\n",
       "      <td>2</td>\n",
       "    </tr>\n",
       "    <tr>\n",
       "      <th>apparel.jumper</th>\n",
       "      <td>2</td>\n",
       "    </tr>\n",
       "    <tr>\n",
       "      <th>construction.tools.soldering</th>\n",
       "      <td>1</td>\n",
       "    </tr>\n",
       "    <tr>\n",
       "      <th>apparel.jacket</th>\n",
       "      <td>1</td>\n",
       "    </tr>\n",
       "  </tbody>\n",
       "</table>\n",
       "<p>121 rows × 1 columns</p>\n",
       "</div>"
      ],
      "text/plain": [
       "                                 len\n",
       "category_code                       \n",
       "electronics.smartphone        338018\n",
       "electronics.audio.headphone    30503\n",
       "electronics.video.tv           21565\n",
       "electronics.clocks             17906\n",
       "appliances.kitchen.washer      16148\n",
       "...                              ...\n",
       "apparel.skirt                      4\n",
       "apparel.shorts                     2\n",
       "apparel.jumper                     2\n",
       "construction.tools.soldering       1\n",
       "apparel.jacket                     1\n",
       "\n",
       "[121 rows x 1 columns]"
      ]
     },
     "execution_count": 86,
     "metadata": {},
     "output_type": "execute_result"
    }
   ],
   "source": [
    "top_catg"
   ]
  },
  {
   "cell_type": "markdown",
   "id": "56c5fad4",
   "metadata": {},
   "source": [
    "According to the above output, the **smartphone category** is the most famous among others. The difference in the number of products bought for other categories is clearly visible."
   ]
  },
  {
   "cell_type": "markdown",
   "id": "3656dd7e",
   "metadata": {},
   "source": [
    "### The hypothesis\n",
    "\n",
    "According  to the above analysis, the top brands all include mobile and mobile accessory companies. The top category is the samrtphone category, which has over **300,000**+ sales, and the other categories don't even come close to this number. It can be concluded that all products that come under the smartphone category should be in abundance in the inventory with the top five or six top brands."
   ]
  },
  {
   "cell_type": "code",
   "execution_count": null,
   "id": "b45b6ed8",
   "metadata": {},
   "outputs": [],
   "source": []
  }
 ],
 "metadata": {
  "kernelspec": {
   "display_name": "Python 3 (ipykernel)",
   "language": "python",
   "name": "python3"
  },
  "language_info": {
   "codemirror_mode": {
    "name": "ipython",
    "version": 3
   },
   "file_extension": ".py",
   "mimetype": "text/x-python",
   "name": "python",
   "nbconvert_exporter": "python",
   "pygments_lexer": "ipython3",
   "version": "3.9.12"
  }
 },
 "nbformat": 4,
 "nbformat_minor": 5
}
