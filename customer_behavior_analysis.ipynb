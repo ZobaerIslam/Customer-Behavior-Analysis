{
 "cells": [
  {
   "cell_type": "markdown",
   "id": "095d03ba",
   "metadata": {},
   "source": [
    "# Customer Behavior Analysis"
   ]
  },
  {
   "cell_type": "markdown",
   "id": "fe6ffe89",
   "metadata": {},
   "source": [
    "## What is customer behavior?\n",
    "The decisions and instincts that make a customer buy a certain product or service can be described as customer behavior.\n",
    "\n",
    "## The dataset\n",
    "The dataset used in this project was made by collecting information from an e-commerce store with products in multiple categories. The data is only for the months of October and November for the year **2019**. The dataset description can be found [here](https://www.kaggle.com/datasets/mkechinov/ecommerce-behavior-data-from-multi-category-store).\n"
   ]
  },
  {
   "cell_type": "code",
   "execution_count": 1,
   "id": "2e385ec4",
   "metadata": {},
   "outputs": [],
   "source": [
    "import pandas as pd"
   ]
  },
  {
   "cell_type": "markdown",
   "id": "d1416a17",
   "metadata": {},
   "source": [
    "## Working with large CSV files in Python"
   ]
  },
  {
   "cell_type": "code",
   "execution_count": 2,
   "id": "0f71ff3d",
   "metadata": {},
   "outputs": [],
   "source": [
    "import time"
   ]
  },
  {
   "cell_type": "markdown",
   "id": "12bcc9f6",
   "metadata": {},
   "source": [
    "### Using Pandas chunksize"
   ]
  },
  {
   "cell_type": "code",
   "execution_count": 3,
   "id": "724569ac",
   "metadata": {},
   "outputs": [
    {
     "data": {
      "text/html": [
       "<div>\n",
       "<style scoped>\n",
       "    .dataframe tbody tr th:only-of-type {\n",
       "        vertical-align: middle;\n",
       "    }\n",
       "\n",
       "    .dataframe tbody tr th {\n",
       "        vertical-align: top;\n",
       "    }\n",
       "\n",
       "    .dataframe thead th {\n",
       "        text-align: right;\n",
       "    }\n",
       "</style>\n",
       "<table border=\"1\" class=\"dataframe\">\n",
       "  <thead>\n",
       "    <tr style=\"text-align: right;\">\n",
       "      <th></th>\n",
       "      <th>event_time</th>\n",
       "      <th>event_type</th>\n",
       "      <th>product_id</th>\n",
       "      <th>category_id</th>\n",
       "      <th>category_code</th>\n",
       "      <th>brand</th>\n",
       "      <th>price</th>\n",
       "      <th>user_id</th>\n",
       "      <th>user_session</th>\n",
       "    </tr>\n",
       "  </thead>\n",
       "  <tbody>\n",
       "    <tr>\n",
       "      <th>42448759</th>\n",
       "      <td>2019-10-31 23:59:58 UTC</td>\n",
       "      <td>view</td>\n",
       "      <td>2300275</td>\n",
       "      <td>2053013560530830019</td>\n",
       "      <td>electronics.camera.video</td>\n",
       "      <td>gopro</td>\n",
       "      <td>527.40</td>\n",
       "      <td>537931532</td>\n",
       "      <td>22c57267-da98-4f28-9a9c-18bb5b385193</td>\n",
       "    </tr>\n",
       "    <tr>\n",
       "      <th>42448760</th>\n",
       "      <td>2019-10-31 23:59:58 UTC</td>\n",
       "      <td>view</td>\n",
       "      <td>10800172</td>\n",
       "      <td>2053013554994348409</td>\n",
       "      <td>NaN</td>\n",
       "      <td>redmond</td>\n",
       "      <td>61.75</td>\n",
       "      <td>527322328</td>\n",
       "      <td>5054190a-46cb-4211-a8f1-16fc1a060ed8</td>\n",
       "    </tr>\n",
       "    <tr>\n",
       "      <th>42448761</th>\n",
       "      <td>2019-10-31 23:59:58 UTC</td>\n",
       "      <td>view</td>\n",
       "      <td>5701038</td>\n",
       "      <td>2053013553970938175</td>\n",
       "      <td>auto.accessories.player</td>\n",
       "      <td>kenwood</td>\n",
       "      <td>128.70</td>\n",
       "      <td>566280422</td>\n",
       "      <td>05b6c62b-992f-4e8e-91f7-961bcb4719cd</td>\n",
       "    </tr>\n",
       "    <tr>\n",
       "      <th>42448762</th>\n",
       "      <td>2019-10-31 23:59:59 UTC</td>\n",
       "      <td>view</td>\n",
       "      <td>21407424</td>\n",
       "      <td>2053013561579406073</td>\n",
       "      <td>electronics.clocks</td>\n",
       "      <td>tissot</td>\n",
       "      <td>689.85</td>\n",
       "      <td>513118352</td>\n",
       "      <td>4c14bf2a-2820-4504-929d-046356a5a204</td>\n",
       "    </tr>\n",
       "    <tr>\n",
       "      <th>42448763</th>\n",
       "      <td>2019-10-31 23:59:59 UTC</td>\n",
       "      <td>view</td>\n",
       "      <td>13300120</td>\n",
       "      <td>2053013557166998015</td>\n",
       "      <td>NaN</td>\n",
       "      <td>swisshome</td>\n",
       "      <td>155.73</td>\n",
       "      <td>525266378</td>\n",
       "      <td>6e57d2d7-6022-46e6-81d6-fa77f14cefd8</td>\n",
       "    </tr>\n",
       "  </tbody>\n",
       "</table>\n",
       "</div>"
      ],
      "text/plain": [
       "                       event_time event_type  product_id          category_id  \\\n",
       "42448759  2019-10-31 23:59:58 UTC       view     2300275  2053013560530830019   \n",
       "42448760  2019-10-31 23:59:58 UTC       view    10800172  2053013554994348409   \n",
       "42448761  2019-10-31 23:59:58 UTC       view     5701038  2053013553970938175   \n",
       "42448762  2019-10-31 23:59:59 UTC       view    21407424  2053013561579406073   \n",
       "42448763  2019-10-31 23:59:59 UTC       view    13300120  2053013557166998015   \n",
       "\n",
       "                     category_code      brand   price    user_id  \\\n",
       "42448759  electronics.camera.video      gopro  527.40  537931532   \n",
       "42448760                       NaN    redmond   61.75  527322328   \n",
       "42448761   auto.accessories.player    kenwood  128.70  566280422   \n",
       "42448762        electronics.clocks     tissot  689.85  513118352   \n",
       "42448763                       NaN  swisshome  155.73  525266378   \n",
       "\n",
       "                                  user_session  \n",
       "42448759  22c57267-da98-4f28-9a9c-18bb5b385193  \n",
       "42448760  5054190a-46cb-4211-a8f1-16fc1a060ed8  \n",
       "42448761  05b6c62b-992f-4e8e-91f7-961bcb4719cd  \n",
       "42448762  4c14bf2a-2820-4504-929d-046356a5a204  \n",
       "42448763  6e57d2d7-6022-46e6-81d6-fa77f14cefd8  "
      ]
     },
     "metadata": {},
     "output_type": "display_data"
    }
   ],
   "source": [
    "# Time taken to read data\n",
    "s_time_chunk = time.time()\n",
    "\n",
    "# Using Pandas read_csv(chunksize) function\n",
    "chunk = pd.read_csv('../cBADatasets/2019-Oct.csv', chunksize=10000)\n",
    "\n",
    "# store data\n",
    "df_chunk = pd.concat(chunk)\n",
    "display(df_chunk.tail())\n",
    "\n",
    "e_time_chunk = time.time()"
   ]
  },
  {
   "cell_type": "code",
   "execution_count": 4,
   "id": "ea791206",
   "metadata": {},
   "outputs": [
    {
     "name": "stdout",
     "output_type": "stream",
     "text": [
      "With chunks:  49.85872507095337 seconds\n"
     ]
    }
   ],
   "source": [
    "print(\"With chunks: \", e_time_chunk - s_time_chunk, \"seconds\")"
   ]
  },
  {
   "cell_type": "code",
   "execution_count": 5,
   "id": "7cd19fc6",
   "metadata": {},
   "outputs": [
    {
     "data": {
      "text/plain": [
       "(42448764, 9)"
      ]
     },
     "execution_count": 5,
     "metadata": {},
     "output_type": "execute_result"
    }
   ],
   "source": [
    "df_chunk.shape"
   ]
  },
  {
   "cell_type": "markdown",
   "id": "714e2055",
   "metadata": {},
   "source": [
    "### Using dask \n",
    "\n",
    "Dask is an open-source python library that includes features of parallelism and scalability in Python by using the existing libraries like pandas. More about [dask](https://docs.dask.org/en/stable/)"
   ]
  },
  {
   "cell_type": "code",
   "execution_count": 6,
   "id": "17d0c303",
   "metadata": {},
   "outputs": [],
   "source": [
    "from dask import dataframe as dd"
   ]
  },
  {
   "cell_type": "code",
   "execution_count": 7,
   "id": "fb89b046",
   "metadata": {},
   "outputs": [
    {
     "data": {
      "text/html": [
       "<div>\n",
       "<style scoped>\n",
       "    .dataframe tbody tr th:only-of-type {\n",
       "        vertical-align: middle;\n",
       "    }\n",
       "\n",
       "    .dataframe tbody tr th {\n",
       "        vertical-align: top;\n",
       "    }\n",
       "\n",
       "    .dataframe thead th {\n",
       "        text-align: right;\n",
       "    }\n",
       "</style>\n",
       "<table border=\"1\" class=\"dataframe\">\n",
       "  <thead>\n",
       "    <tr style=\"text-align: right;\">\n",
       "      <th></th>\n",
       "      <th>event_time</th>\n",
       "      <th>event_type</th>\n",
       "      <th>product_id</th>\n",
       "      <th>category_id</th>\n",
       "      <th>category_code</th>\n",
       "      <th>brand</th>\n",
       "      <th>price</th>\n",
       "      <th>user_id</th>\n",
       "      <th>user_session</th>\n",
       "    </tr>\n",
       "  </thead>\n",
       "  <tbody>\n",
       "    <tr>\n",
       "      <th>483203</th>\n",
       "      <td>2019-10-31 23:59:58 UTC</td>\n",
       "      <td>view</td>\n",
       "      <td>2300275</td>\n",
       "      <td>2053013560530830019</td>\n",
       "      <td>electronics.camera.video</td>\n",
       "      <td>gopro</td>\n",
       "      <td>527.40</td>\n",
       "      <td>537931532</td>\n",
       "      <td>22c57267-da98-4f28-9a9c-18bb5b385193</td>\n",
       "    </tr>\n",
       "    <tr>\n",
       "      <th>483204</th>\n",
       "      <td>2019-10-31 23:59:58 UTC</td>\n",
       "      <td>view</td>\n",
       "      <td>10800172</td>\n",
       "      <td>2053013554994348409</td>\n",
       "      <td>NaN</td>\n",
       "      <td>redmond</td>\n",
       "      <td>61.75</td>\n",
       "      <td>527322328</td>\n",
       "      <td>5054190a-46cb-4211-a8f1-16fc1a060ed8</td>\n",
       "    </tr>\n",
       "    <tr>\n",
       "      <th>483205</th>\n",
       "      <td>2019-10-31 23:59:58 UTC</td>\n",
       "      <td>view</td>\n",
       "      <td>5701038</td>\n",
       "      <td>2053013553970938175</td>\n",
       "      <td>auto.accessories.player</td>\n",
       "      <td>kenwood</td>\n",
       "      <td>128.70</td>\n",
       "      <td>566280422</td>\n",
       "      <td>05b6c62b-992f-4e8e-91f7-961bcb4719cd</td>\n",
       "    </tr>\n",
       "    <tr>\n",
       "      <th>483206</th>\n",
       "      <td>2019-10-31 23:59:59 UTC</td>\n",
       "      <td>view</td>\n",
       "      <td>21407424</td>\n",
       "      <td>2053013561579406073</td>\n",
       "      <td>electronics.clocks</td>\n",
       "      <td>tissot</td>\n",
       "      <td>689.85</td>\n",
       "      <td>513118352</td>\n",
       "      <td>4c14bf2a-2820-4504-929d-046356a5a204</td>\n",
       "    </tr>\n",
       "    <tr>\n",
       "      <th>483207</th>\n",
       "      <td>2019-10-31 23:59:59 UTC</td>\n",
       "      <td>view</td>\n",
       "      <td>13300120</td>\n",
       "      <td>2053013557166998015</td>\n",
       "      <td>NaN</td>\n",
       "      <td>swisshome</td>\n",
       "      <td>155.73</td>\n",
       "      <td>525266378</td>\n",
       "      <td>6e57d2d7-6022-46e6-81d6-fa77f14cefd8</td>\n",
       "    </tr>\n",
       "  </tbody>\n",
       "</table>\n",
       "</div>"
      ],
      "text/plain": [
       "                     event_time event_type  product_id          category_id  \\\n",
       "483203  2019-10-31 23:59:58 UTC       view     2300275  2053013560530830019   \n",
       "483204  2019-10-31 23:59:58 UTC       view    10800172  2053013554994348409   \n",
       "483205  2019-10-31 23:59:58 UTC       view     5701038  2053013553970938175   \n",
       "483206  2019-10-31 23:59:59 UTC       view    21407424  2053013561579406073   \n",
       "483207  2019-10-31 23:59:59 UTC       view    13300120  2053013557166998015   \n",
       "\n",
       "                   category_code      brand   price    user_id  \\\n",
       "483203  electronics.camera.video      gopro  527.40  537931532   \n",
       "483204                       NaN    redmond   61.75  527322328   \n",
       "483205   auto.accessories.player    kenwood  128.70  566280422   \n",
       "483206        electronics.clocks     tissot  689.85  513118352   \n",
       "483207                       NaN  swisshome  155.73  525266378   \n",
       "\n",
       "                                user_session  \n",
       "483203  22c57267-da98-4f28-9a9c-18bb5b385193  \n",
       "483204  5054190a-46cb-4211-a8f1-16fc1a060ed8  \n",
       "483205  05b6c62b-992f-4e8e-91f7-961bcb4719cd  \n",
       "483206  4c14bf2a-2820-4504-929d-046356a5a204  \n",
       "483207  6e57d2d7-6022-46e6-81d6-fa77f14cefd8  "
      ]
     },
     "metadata": {},
     "output_type": "display_data"
    }
   ],
   "source": [
    "# Using dask\n",
    "s_time_dask = time.time()\n",
    "dask_df = dd.read_csv('../cBADatasets/2019-Oct.csv')\n",
    "display(dask_df.tail())\n",
    "e_time_dask = time.time()"
   ]
  },
  {
   "cell_type": "code",
   "execution_count": 8,
   "id": "c0f341be",
   "metadata": {},
   "outputs": [
    {
     "name": "stdout",
     "output_type": "stream",
     "text": [
      "Read with dask:  0.5862700939178467 seconds\n"
     ]
    }
   ],
   "source": [
    "print(\"Read with dask: \", (e_time_dask - s_time_dask), \"seconds\")"
   ]
  },
  {
   "cell_type": "code",
   "execution_count": 9,
   "id": "a3e7f85b",
   "metadata": {},
   "outputs": [
    {
     "name": "stdout",
     "output_type": "stream",
     "text": [
      "42448764 9\n"
     ]
    }
   ],
   "source": [
    "# Print dask dataframe shape\n",
    "dask_df_shape = dask_df.shape\n",
    "print(dask_df_shape[0].compute(), dask_df_shape[1])"
   ]
  },
  {
   "cell_type": "markdown",
   "id": "30de1e01",
   "metadata": {},
   "source": [
    "### Using Pandas engine"
   ]
  },
  {
   "cell_type": "code",
   "execution_count": 10,
   "id": "8a517660",
   "metadata": {},
   "outputs": [
    {
     "data": {
      "text/html": [
       "<div>\n",
       "<style scoped>\n",
       "    .dataframe tbody tr th:only-of-type {\n",
       "        vertical-align: middle;\n",
       "    }\n",
       "\n",
       "    .dataframe tbody tr th {\n",
       "        vertical-align: top;\n",
       "    }\n",
       "\n",
       "    .dataframe thead th {\n",
       "        text-align: right;\n",
       "    }\n",
       "</style>\n",
       "<table border=\"1\" class=\"dataframe\">\n",
       "  <thead>\n",
       "    <tr style=\"text-align: right;\">\n",
       "      <th></th>\n",
       "      <th>event_time</th>\n",
       "      <th>event_type</th>\n",
       "      <th>product_id</th>\n",
       "      <th>category_id</th>\n",
       "      <th>category_code</th>\n",
       "      <th>brand</th>\n",
       "      <th>price</th>\n",
       "      <th>user_id</th>\n",
       "      <th>user_session</th>\n",
       "    </tr>\n",
       "  </thead>\n",
       "  <tbody>\n",
       "    <tr>\n",
       "      <th>42448759</th>\n",
       "      <td>2019-10-31 23:59:58 UTC</td>\n",
       "      <td>view</td>\n",
       "      <td>2300275</td>\n",
       "      <td>2053013560530830019</td>\n",
       "      <td>electronics.camera.video</td>\n",
       "      <td>gopro</td>\n",
       "      <td>527.40</td>\n",
       "      <td>537931532</td>\n",
       "      <td>22c57267-da98-4f28-9a9c-18bb5b385193</td>\n",
       "    </tr>\n",
       "    <tr>\n",
       "      <th>42448760</th>\n",
       "      <td>2019-10-31 23:59:58 UTC</td>\n",
       "      <td>view</td>\n",
       "      <td>10800172</td>\n",
       "      <td>2053013554994348409</td>\n",
       "      <td>NaN</td>\n",
       "      <td>redmond</td>\n",
       "      <td>61.75</td>\n",
       "      <td>527322328</td>\n",
       "      <td>5054190a-46cb-4211-a8f1-16fc1a060ed8</td>\n",
       "    </tr>\n",
       "    <tr>\n",
       "      <th>42448761</th>\n",
       "      <td>2019-10-31 23:59:58 UTC</td>\n",
       "      <td>view</td>\n",
       "      <td>5701038</td>\n",
       "      <td>2053013553970938175</td>\n",
       "      <td>auto.accessories.player</td>\n",
       "      <td>kenwood</td>\n",
       "      <td>128.70</td>\n",
       "      <td>566280422</td>\n",
       "      <td>05b6c62b-992f-4e8e-91f7-961bcb4719cd</td>\n",
       "    </tr>\n",
       "    <tr>\n",
       "      <th>42448762</th>\n",
       "      <td>2019-10-31 23:59:59 UTC</td>\n",
       "      <td>view</td>\n",
       "      <td>21407424</td>\n",
       "      <td>2053013561579406073</td>\n",
       "      <td>electronics.clocks</td>\n",
       "      <td>tissot</td>\n",
       "      <td>689.85</td>\n",
       "      <td>513118352</td>\n",
       "      <td>4c14bf2a-2820-4504-929d-046356a5a204</td>\n",
       "    </tr>\n",
       "    <tr>\n",
       "      <th>42448763</th>\n",
       "      <td>2019-10-31 23:59:59 UTC</td>\n",
       "      <td>view</td>\n",
       "      <td>13300120</td>\n",
       "      <td>2053013557166998015</td>\n",
       "      <td>NaN</td>\n",
       "      <td>swisshome</td>\n",
       "      <td>155.73</td>\n",
       "      <td>525266378</td>\n",
       "      <td>6e57d2d7-6022-46e6-81d6-fa77f14cefd8</td>\n",
       "    </tr>\n",
       "  </tbody>\n",
       "</table>\n",
       "</div>"
      ],
      "text/plain": [
       "                       event_time event_type  product_id          category_id  \\\n",
       "42448759  2019-10-31 23:59:58 UTC       view     2300275  2053013560530830019   \n",
       "42448760  2019-10-31 23:59:58 UTC       view    10800172  2053013554994348409   \n",
       "42448761  2019-10-31 23:59:58 UTC       view     5701038  2053013553970938175   \n",
       "42448762  2019-10-31 23:59:59 UTC       view    21407424  2053013561579406073   \n",
       "42448763  2019-10-31 23:59:59 UTC       view    13300120  2053013557166998015   \n",
       "\n",
       "                     category_code      brand   price    user_id  \\\n",
       "42448759  electronics.camera.video      gopro  527.40  537931532   \n",
       "42448760                       NaN    redmond   61.75  527322328   \n",
       "42448761   auto.accessories.player    kenwood  128.70  566280422   \n",
       "42448762        electronics.clocks     tissot  689.85  513118352   \n",
       "42448763                       NaN  swisshome  155.73  525266378   \n",
       "\n",
       "                                  user_session  \n",
       "42448759  22c57267-da98-4f28-9a9c-18bb5b385193  \n",
       "42448760  5054190a-46cb-4211-a8f1-16fc1a060ed8  \n",
       "42448761  05b6c62b-992f-4e8e-91f7-961bcb4719cd  \n",
       "42448762  4c14bf2a-2820-4504-929d-046356a5a204  \n",
       "42448763  6e57d2d7-6022-46e6-81d6-fa77f14cefd8  "
      ]
     },
     "metadata": {},
     "output_type": "display_data"
    }
   ],
   "source": [
    "# Time taken to read data\n",
    "s_time_engine = time.time()\n",
    "# Reading the data from file\n",
    "df_engine_c = pd.read_csv(\"../cBADatasets/2019-Oct.csv\", engine='c') \n",
    "display(df_engine_c.tail())\n",
    "e_time_engine = time.time()"
   ]
  },
  {
   "cell_type": "code",
   "execution_count": 11,
   "id": "3578277d",
   "metadata": {},
   "outputs": [
    {
     "name": "stdout",
     "output_type": "stream",
     "text": [
      "Read with Engine:  49.170133113861084 seconds\n"
     ]
    }
   ],
   "source": [
    "print(\"Read with Engine: \", (e_time_engine - s_time_engine), \"seconds\")"
   ]
  },
  {
   "cell_type": "code",
   "execution_count": 12,
   "id": "00a68f49",
   "metadata": {},
   "outputs": [
    {
     "data": {
      "text/plain": [
       "(42448764, 9)"
      ]
     },
     "execution_count": 12,
     "metadata": {},
     "output_type": "execute_result"
    }
   ],
   "source": [
    "df_engine_c.shape"
   ]
  },
  {
   "cell_type": "markdown",
   "id": "6691ed91",
   "metadata": {},
   "source": [
    "### Using Pandas only"
   ]
  },
  {
   "cell_type": "code",
   "execution_count": 13,
   "id": "c22c8c19",
   "metadata": {},
   "outputs": [
    {
     "data": {
      "text/html": [
       "<div>\n",
       "<style scoped>\n",
       "    .dataframe tbody tr th:only-of-type {\n",
       "        vertical-align: middle;\n",
       "    }\n",
       "\n",
       "    .dataframe tbody tr th {\n",
       "        vertical-align: top;\n",
       "    }\n",
       "\n",
       "    .dataframe thead th {\n",
       "        text-align: right;\n",
       "    }\n",
       "</style>\n",
       "<table border=\"1\" class=\"dataframe\">\n",
       "  <thead>\n",
       "    <tr style=\"text-align: right;\">\n",
       "      <th></th>\n",
       "      <th>event_time</th>\n",
       "      <th>event_type</th>\n",
       "      <th>product_id</th>\n",
       "      <th>category_id</th>\n",
       "      <th>category_code</th>\n",
       "      <th>brand</th>\n",
       "      <th>price</th>\n",
       "      <th>user_id</th>\n",
       "      <th>user_session</th>\n",
       "    </tr>\n",
       "  </thead>\n",
       "  <tbody>\n",
       "    <tr>\n",
       "      <th>42448759</th>\n",
       "      <td>2019-10-31 23:59:58 UTC</td>\n",
       "      <td>view</td>\n",
       "      <td>2300275</td>\n",
       "      <td>2053013560530830019</td>\n",
       "      <td>electronics.camera.video</td>\n",
       "      <td>gopro</td>\n",
       "      <td>527.40</td>\n",
       "      <td>537931532</td>\n",
       "      <td>22c57267-da98-4f28-9a9c-18bb5b385193</td>\n",
       "    </tr>\n",
       "    <tr>\n",
       "      <th>42448760</th>\n",
       "      <td>2019-10-31 23:59:58 UTC</td>\n",
       "      <td>view</td>\n",
       "      <td>10800172</td>\n",
       "      <td>2053013554994348409</td>\n",
       "      <td>NaN</td>\n",
       "      <td>redmond</td>\n",
       "      <td>61.75</td>\n",
       "      <td>527322328</td>\n",
       "      <td>5054190a-46cb-4211-a8f1-16fc1a060ed8</td>\n",
       "    </tr>\n",
       "    <tr>\n",
       "      <th>42448761</th>\n",
       "      <td>2019-10-31 23:59:58 UTC</td>\n",
       "      <td>view</td>\n",
       "      <td>5701038</td>\n",
       "      <td>2053013553970938175</td>\n",
       "      <td>auto.accessories.player</td>\n",
       "      <td>kenwood</td>\n",
       "      <td>128.70</td>\n",
       "      <td>566280422</td>\n",
       "      <td>05b6c62b-992f-4e8e-91f7-961bcb4719cd</td>\n",
       "    </tr>\n",
       "    <tr>\n",
       "      <th>42448762</th>\n",
       "      <td>2019-10-31 23:59:59 UTC</td>\n",
       "      <td>view</td>\n",
       "      <td>21407424</td>\n",
       "      <td>2053013561579406073</td>\n",
       "      <td>electronics.clocks</td>\n",
       "      <td>tissot</td>\n",
       "      <td>689.85</td>\n",
       "      <td>513118352</td>\n",
       "      <td>4c14bf2a-2820-4504-929d-046356a5a204</td>\n",
       "    </tr>\n",
       "    <tr>\n",
       "      <th>42448763</th>\n",
       "      <td>2019-10-31 23:59:59 UTC</td>\n",
       "      <td>view</td>\n",
       "      <td>13300120</td>\n",
       "      <td>2053013557166998015</td>\n",
       "      <td>NaN</td>\n",
       "      <td>swisshome</td>\n",
       "      <td>155.73</td>\n",
       "      <td>525266378</td>\n",
       "      <td>6e57d2d7-6022-46e6-81d6-fa77f14cefd8</td>\n",
       "    </tr>\n",
       "  </tbody>\n",
       "</table>\n",
       "</div>"
      ],
      "text/plain": [
       "                       event_time event_type  product_id          category_id  \\\n",
       "42448759  2019-10-31 23:59:58 UTC       view     2300275  2053013560530830019   \n",
       "42448760  2019-10-31 23:59:58 UTC       view    10800172  2053013554994348409   \n",
       "42448761  2019-10-31 23:59:58 UTC       view     5701038  2053013553970938175   \n",
       "42448762  2019-10-31 23:59:59 UTC       view    21407424  2053013561579406073   \n",
       "42448763  2019-10-31 23:59:59 UTC       view    13300120  2053013557166998015   \n",
       "\n",
       "                     category_code      brand   price    user_id  \\\n",
       "42448759  electronics.camera.video      gopro  527.40  537931532   \n",
       "42448760                       NaN    redmond   61.75  527322328   \n",
       "42448761   auto.accessories.player    kenwood  128.70  566280422   \n",
       "42448762        electronics.clocks     tissot  689.85  513118352   \n",
       "42448763                       NaN  swisshome  155.73  525266378   \n",
       "\n",
       "                                  user_session  \n",
       "42448759  22c57267-da98-4f28-9a9c-18bb5b385193  \n",
       "42448760  5054190a-46cb-4211-a8f1-16fc1a060ed8  \n",
       "42448761  05b6c62b-992f-4e8e-91f7-961bcb4719cd  \n",
       "42448762  4c14bf2a-2820-4504-929d-046356a5a204  \n",
       "42448763  6e57d2d7-6022-46e6-81d6-fa77f14cefd8  "
      ]
     },
     "metadata": {},
     "output_type": "display_data"
    }
   ],
   "source": [
    "# Time taken to read data\n",
    "s_time = time.time()\n",
    "# Reading the data from file\n",
    "df = pd.read_csv(\"../cBADatasets/2019-Oct.csv\") \n",
    "display(df.tail())\n",
    "e_time = time.time()"
   ]
  },
  {
   "cell_type": "code",
   "execution_count": 14,
   "id": "dbfb1a65",
   "metadata": {},
   "outputs": [
    {
     "name": "stdout",
     "output_type": "stream",
     "text": [
      "Read Only:  53.27710461616516 seconds\n"
     ]
    }
   ],
   "source": [
    "print(\"Read Only: \", (e_time - s_time), \"seconds\")"
   ]
  },
  {
   "cell_type": "code",
   "execution_count": null,
   "id": "2e644098",
   "metadata": {},
   "outputs": [],
   "source": []
  }
 ],
 "metadata": {
  "kernelspec": {
   "display_name": "Python 3 (ipykernel)",
   "language": "python",
   "name": "python3"
  },
  "language_info": {
   "codemirror_mode": {
    "name": "ipython",
    "version": 3
   },
   "file_extension": ".py",
   "mimetype": "text/x-python",
   "name": "python",
   "nbconvert_exporter": "python",
   "pygments_lexer": "ipython3",
   "version": "3.9.12"
  }
 },
 "nbformat": 4,
 "nbformat_minor": 5
}
